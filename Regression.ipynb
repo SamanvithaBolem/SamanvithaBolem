{
  "nbformat": 4,
  "nbformat_minor": 0,
  "metadata": {
    "colab": {
      "name": "Regression.ipynb",
      "provenance": [],
      "authorship_tag": "ABX9TyMxVZRMDpE8xkiIn8yMN3AS",
      "include_colab_link": true
    },
    "kernelspec": {
      "name": "python3",
      "display_name": "Python 3"
    },
    "language_info": {
      "name": "python"
    }
  },
  "cells": [
    {
      "cell_type": "markdown",
      "metadata": {
        "id": "view-in-github",
        "colab_type": "text"
      },
      "source": [
        "<a href=\"https://colab.research.google.com/github/SamanvithaBolem/SamanvithaBolem/blob/main/Regression.ipynb\" target=\"_parent\"><img src=\"https://colab.research.google.com/assets/colab-badge.svg\" alt=\"Open In Colab\"/></a>"
      ]
    },
    {
      "cell_type": "code",
      "metadata": {
        "id": "NQRLgfRHubBf"
      },
      "source": [
        "import pandas as pd\n",
        "import numpy as np\n",
        "import matplotlib.pyplot as plt\n",
        "import seaborn as sns\n",
        "import sklearn"
      ],
      "execution_count": 120,
      "outputs": []
    },
    {
      "cell_type": "code",
      "metadata": {
        "id": "YgOqQSuxwZtS"
      },
      "source": [
        "file = pd.read_csv('/content/Property_Price_Train.csv')"
      ],
      "execution_count": 121,
      "outputs": []
    },
    {
      "cell_type": "code",
      "metadata": {
        "colab": {
          "base_uri": "https://localhost:8080/"
        },
        "id": "Tf4N-ifzwiYI",
        "outputId": "04c4a3f9-08ad-4e70-9a69-cf3b19c2a555"
      },
      "source": [
        "file.shape"
      ],
      "execution_count": 122,
      "outputs": [
        {
          "output_type": "execute_result",
          "data": {
            "text/plain": [
              "(1459, 81)"
            ]
          },
          "metadata": {},
          "execution_count": 122
        }
      ]
    },
    {
      "cell_type": "code",
      "metadata": {
        "colab": {
          "base_uri": "https://localhost:8080/"
        },
        "id": "rq5O92jKwkko",
        "outputId": "d0e84dd0-c961-4d86-890f-07ca1dd5165c"
      },
      "source": [
        "file.info()"
      ],
      "execution_count": 123,
      "outputs": [
        {
          "output_type": "stream",
          "name": "stdout",
          "text": [
            "<class 'pandas.core.frame.DataFrame'>\n",
            "RangeIndex: 1459 entries, 0 to 1458\n",
            "Data columns (total 81 columns):\n",
            " #   Column                     Non-Null Count  Dtype  \n",
            "---  ------                     --------------  -----  \n",
            " 0   Id                         1459 non-null   int64  \n",
            " 1   Building_Class             1459 non-null   int64  \n",
            " 2   Zoning_Class               1459 non-null   object \n",
            " 3   Lot_Extent                 1200 non-null   float64\n",
            " 4   Lot_Size                   1459 non-null   int64  \n",
            " 5   Road_Type                  1459 non-null   object \n",
            " 6   Lane_Type                  91 non-null     object \n",
            " 7   Property_Shape             1459 non-null   object \n",
            " 8   Land_Outline               1459 non-null   object \n",
            " 9   Utility_Type               1459 non-null   object \n",
            " 10  Lot_Configuration          1459 non-null   object \n",
            " 11  Property_Slope             1459 non-null   object \n",
            " 12  Neighborhood               1459 non-null   object \n",
            " 13  Condition1                 1459 non-null   object \n",
            " 14  Condition2                 1459 non-null   object \n",
            " 15  House_Type                 1459 non-null   object \n",
            " 16  House_Design               1459 non-null   object \n",
            " 17  Overall_Material           1459 non-null   int64  \n",
            " 18  House_Condition            1459 non-null   int64  \n",
            " 19  Construction_Year          1459 non-null   int64  \n",
            " 20  Remodel_Year               1459 non-null   int64  \n",
            " 21  Roof_Design                1459 non-null   object \n",
            " 22  Roof_Quality               1459 non-null   object \n",
            " 23  Exterior1st                1459 non-null   object \n",
            " 24  Exterior2nd                1459 non-null   object \n",
            " 25  Brick_Veneer_Type          1451 non-null   object \n",
            " 26  Brick_Veneer_Area          1451 non-null   float64\n",
            " 27  Exterior_Material          1459 non-null   object \n",
            " 28  Exterior_Condition         1459 non-null   object \n",
            " 29  Foundation_Type            1459 non-null   object \n",
            " 30  Basement_Height            1422 non-null   object \n",
            " 31  Basement_Condition         1422 non-null   object \n",
            " 32  Exposure_Level             1421 non-null   object \n",
            " 33  BsmtFinType1               1422 non-null   object \n",
            " 34  BsmtFinSF1                 1459 non-null   int64  \n",
            " 35  BsmtFinType2               1421 non-null   object \n",
            " 36  BsmtFinSF2                 1459 non-null   int64  \n",
            " 37  BsmtUnfSF                  1459 non-null   int64  \n",
            " 38  Total_Basement_Area        1459 non-null   int64  \n",
            " 39  Heating_Type               1459 non-null   object \n",
            " 40  Heating_Quality            1459 non-null   object \n",
            " 41  Air_Conditioning           1459 non-null   object \n",
            " 42  Electrical_System          1458 non-null   object \n",
            " 43  First_Floor_Area           1459 non-null   int64  \n",
            " 44  Second_Floor_Area          1459 non-null   int64  \n",
            " 45  LowQualFinSF               1459 non-null   int64  \n",
            " 46  Grade_Living_Area          1459 non-null   int64  \n",
            " 47  Underground_Full_Bathroom  1459 non-null   int64  \n",
            " 48  Underground_Half_Bathroom  1459 non-null   int64  \n",
            " 49  Full_Bathroom_Above_Grade  1459 non-null   int64  \n",
            " 50  Half_Bathroom_Above_Grade  1459 non-null   int64  \n",
            " 51  Bedroom_Above_Grade        1459 non-null   int64  \n",
            " 52  Kitchen_Above_Grade        1459 non-null   int64  \n",
            " 53  Kitchen_Quality            1459 non-null   object \n",
            " 54  Rooms_Above_Grade          1459 non-null   int64  \n",
            " 55  Functional_Rate            1459 non-null   object \n",
            " 56  Fireplaces                 1459 non-null   int64  \n",
            " 57  Fireplace_Quality          770 non-null    object \n",
            " 58  Garage                     1378 non-null   object \n",
            " 59  Garage_Built_Year          1378 non-null   float64\n",
            " 60  Garage_Finish_Year         1378 non-null   object \n",
            " 61  Garage_Size                1459 non-null   int64  \n",
            " 62  Garage_Area                1459 non-null   float64\n",
            " 63  Garage_Quality             1378 non-null   object \n",
            " 64  Garage_Condition           1378 non-null   object \n",
            " 65  Pavedd_Drive               1459 non-null   object \n",
            " 66  W_Deck_Area                1459 non-null   float64\n",
            " 67  Open_Lobby_Area            1459 non-null   float64\n",
            " 68  Enclosed_Lobby_Area        1459 non-null   float64\n",
            " 69  Three_Season_Lobby_Area    1459 non-null   int64  \n",
            " 70  Screen_Lobby_Area          1459 non-null   int64  \n",
            " 71  Pool_Area                  1459 non-null   int64  \n",
            " 72  Pool_Quality               7 non-null      object \n",
            " 73  Fence_Quality              281 non-null    object \n",
            " 74  Miscellaneous_Feature      54 non-null     object \n",
            " 75  Miscellaneous_Value        1459 non-null   int64  \n",
            " 76  Month_Sold                 1459 non-null   int64  \n",
            " 77  Year_Sold                  1459 non-null   int64  \n",
            " 78  Sale_Type                  1459 non-null   object \n",
            " 79  Sale_Condition             1459 non-null   object \n",
            " 80  Sale_Price                 1459 non-null   int64  \n",
            "dtypes: float64(7), int64(31), object(43)\n",
            "memory usage: 923.4+ KB\n"
          ]
        }
      ]
    },
    {
      "cell_type": "markdown",
      "metadata": {
        "id": "XUeCjqoawwMH"
      },
      "source": [
        "Build a Base Model"
      ]
    },
    {
      "cell_type": "code",
      "metadata": {
        "id": "ak-kV4vCwnAw"
      },
      "source": [
        "category_columns = file.columns[file.dtypes=='object']\n",
        "\n",
        "numeric_columns = file.columns[file.dtypes!='object']"
      ],
      "execution_count": 124,
      "outputs": []
    },
    {
      "cell_type": "code",
      "metadata": {
        "id": "CZ2mEkFoxKt4"
      },
      "source": [
        "category_data = file[category_columns] #build data"
      ],
      "execution_count": 125,
      "outputs": []
    },
    {
      "cell_type": "code",
      "metadata": {
        "colab": {
          "base_uri": "https://localhost:8080/",
          "height": 224
        },
        "id": "vMXhkUjcxwuq",
        "outputId": "ca1eb271-b2db-4d1d-acfa-ce54a5561327"
      },
      "source": [
        "category_data.head()"
      ],
      "execution_count": 126,
      "outputs": [
        {
          "output_type": "execute_result",
          "data": {
            "text/html": [
              "<div>\n",
              "<style scoped>\n",
              "    .dataframe tbody tr th:only-of-type {\n",
              "        vertical-align: middle;\n",
              "    }\n",
              "\n",
              "    .dataframe tbody tr th {\n",
              "        vertical-align: top;\n",
              "    }\n",
              "\n",
              "    .dataframe thead th {\n",
              "        text-align: right;\n",
              "    }\n",
              "</style>\n",
              "<table border=\"1\" class=\"dataframe\">\n",
              "  <thead>\n",
              "    <tr style=\"text-align: right;\">\n",
              "      <th></th>\n",
              "      <th>Zoning_Class</th>\n",
              "      <th>Road_Type</th>\n",
              "      <th>Lane_Type</th>\n",
              "      <th>Property_Shape</th>\n",
              "      <th>Land_Outline</th>\n",
              "      <th>Utility_Type</th>\n",
              "      <th>Lot_Configuration</th>\n",
              "      <th>Property_Slope</th>\n",
              "      <th>Neighborhood</th>\n",
              "      <th>Condition1</th>\n",
              "      <th>Condition2</th>\n",
              "      <th>House_Type</th>\n",
              "      <th>House_Design</th>\n",
              "      <th>Roof_Design</th>\n",
              "      <th>Roof_Quality</th>\n",
              "      <th>Exterior1st</th>\n",
              "      <th>Exterior2nd</th>\n",
              "      <th>Brick_Veneer_Type</th>\n",
              "      <th>Exterior_Material</th>\n",
              "      <th>Exterior_Condition</th>\n",
              "      <th>Foundation_Type</th>\n",
              "      <th>Basement_Height</th>\n",
              "      <th>Basement_Condition</th>\n",
              "      <th>Exposure_Level</th>\n",
              "      <th>BsmtFinType1</th>\n",
              "      <th>BsmtFinType2</th>\n",
              "      <th>Heating_Type</th>\n",
              "      <th>Heating_Quality</th>\n",
              "      <th>Air_Conditioning</th>\n",
              "      <th>Electrical_System</th>\n",
              "      <th>Kitchen_Quality</th>\n",
              "      <th>Functional_Rate</th>\n",
              "      <th>Fireplace_Quality</th>\n",
              "      <th>Garage</th>\n",
              "      <th>Garage_Finish_Year</th>\n",
              "      <th>Garage_Quality</th>\n",
              "      <th>Garage_Condition</th>\n",
              "      <th>Pavedd_Drive</th>\n",
              "      <th>Pool_Quality</th>\n",
              "      <th>Fence_Quality</th>\n",
              "      <th>Miscellaneous_Feature</th>\n",
              "      <th>Sale_Type</th>\n",
              "      <th>Sale_Condition</th>\n",
              "    </tr>\n",
              "  </thead>\n",
              "  <tbody>\n",
              "    <tr>\n",
              "      <th>0</th>\n",
              "      <td>RLD</td>\n",
              "      <td>Paved</td>\n",
              "      <td>NaN</td>\n",
              "      <td>Reg</td>\n",
              "      <td>Lvl</td>\n",
              "      <td>AllPub</td>\n",
              "      <td>I</td>\n",
              "      <td>GS</td>\n",
              "      <td>CollgCr</td>\n",
              "      <td>Norm</td>\n",
              "      <td>Norm</td>\n",
              "      <td>1Fam</td>\n",
              "      <td>2Story</td>\n",
              "      <td>Gable</td>\n",
              "      <td>SS</td>\n",
              "      <td>VinylSd</td>\n",
              "      <td>VinylSd</td>\n",
              "      <td>BrkFace</td>\n",
              "      <td>Gd</td>\n",
              "      <td>TA</td>\n",
              "      <td>PC</td>\n",
              "      <td>Gd</td>\n",
              "      <td>TA</td>\n",
              "      <td>No</td>\n",
              "      <td>GLQ</td>\n",
              "      <td>Unf</td>\n",
              "      <td>GasA</td>\n",
              "      <td>Ex</td>\n",
              "      <td>Y</td>\n",
              "      <td>SBrkr</td>\n",
              "      <td>Gd</td>\n",
              "      <td>TF</td>\n",
              "      <td>NaN</td>\n",
              "      <td>Attchd</td>\n",
              "      <td>RFn</td>\n",
              "      <td>TA</td>\n",
              "      <td>TA</td>\n",
              "      <td>Y</td>\n",
              "      <td>NaN</td>\n",
              "      <td>NaN</td>\n",
              "      <td>NaN</td>\n",
              "      <td>WD</td>\n",
              "      <td>Normal</td>\n",
              "    </tr>\n",
              "    <tr>\n",
              "      <th>1</th>\n",
              "      <td>RLD</td>\n",
              "      <td>Paved</td>\n",
              "      <td>NaN</td>\n",
              "      <td>Reg</td>\n",
              "      <td>Lvl</td>\n",
              "      <td>AllPub</td>\n",
              "      <td>FR2P</td>\n",
              "      <td>GS</td>\n",
              "      <td>Veenker</td>\n",
              "      <td>Feedr</td>\n",
              "      <td>Norm</td>\n",
              "      <td>1Fam</td>\n",
              "      <td>1Story</td>\n",
              "      <td>Gable</td>\n",
              "      <td>SS</td>\n",
              "      <td>MetalSd</td>\n",
              "      <td>MetalSd</td>\n",
              "      <td>None</td>\n",
              "      <td>TA</td>\n",
              "      <td>TA</td>\n",
              "      <td>CB</td>\n",
              "      <td>Gd</td>\n",
              "      <td>TA</td>\n",
              "      <td>Gd</td>\n",
              "      <td>ALQ</td>\n",
              "      <td>Unf</td>\n",
              "      <td>GasA</td>\n",
              "      <td>Ex</td>\n",
              "      <td>Y</td>\n",
              "      <td>SBrkr</td>\n",
              "      <td>TA</td>\n",
              "      <td>TF</td>\n",
              "      <td>TA</td>\n",
              "      <td>Attchd</td>\n",
              "      <td>RFn</td>\n",
              "      <td>TA</td>\n",
              "      <td>TA</td>\n",
              "      <td>Y</td>\n",
              "      <td>NaN</td>\n",
              "      <td>NaN</td>\n",
              "      <td>NaN</td>\n",
              "      <td>WD</td>\n",
              "      <td>Normal</td>\n",
              "    </tr>\n",
              "    <tr>\n",
              "      <th>2</th>\n",
              "      <td>RLD</td>\n",
              "      <td>Paved</td>\n",
              "      <td>NaN</td>\n",
              "      <td>IR1</td>\n",
              "      <td>Lvl</td>\n",
              "      <td>AllPub</td>\n",
              "      <td>I</td>\n",
              "      <td>GS</td>\n",
              "      <td>CollgCr</td>\n",
              "      <td>Norm</td>\n",
              "      <td>Norm</td>\n",
              "      <td>1Fam</td>\n",
              "      <td>2Story</td>\n",
              "      <td>Gable</td>\n",
              "      <td>SS</td>\n",
              "      <td>VinylSd</td>\n",
              "      <td>VinylSd</td>\n",
              "      <td>BrkFace</td>\n",
              "      <td>Gd</td>\n",
              "      <td>TA</td>\n",
              "      <td>PC</td>\n",
              "      <td>Gd</td>\n",
              "      <td>TA</td>\n",
              "      <td>Mn</td>\n",
              "      <td>GLQ</td>\n",
              "      <td>Unf</td>\n",
              "      <td>GasA</td>\n",
              "      <td>Ex</td>\n",
              "      <td>Y</td>\n",
              "      <td>SBrkr</td>\n",
              "      <td>Gd</td>\n",
              "      <td>TF</td>\n",
              "      <td>TA</td>\n",
              "      <td>Attchd</td>\n",
              "      <td>RFn</td>\n",
              "      <td>TA</td>\n",
              "      <td>TA</td>\n",
              "      <td>Y</td>\n",
              "      <td>NaN</td>\n",
              "      <td>NaN</td>\n",
              "      <td>NaN</td>\n",
              "      <td>WD</td>\n",
              "      <td>Normal</td>\n",
              "    </tr>\n",
              "    <tr>\n",
              "      <th>3</th>\n",
              "      <td>RLD</td>\n",
              "      <td>Paved</td>\n",
              "      <td>NaN</td>\n",
              "      <td>IR1</td>\n",
              "      <td>Lvl</td>\n",
              "      <td>AllPub</td>\n",
              "      <td>C</td>\n",
              "      <td>GS</td>\n",
              "      <td>Crawfor</td>\n",
              "      <td>Norm</td>\n",
              "      <td>Norm</td>\n",
              "      <td>1Fam</td>\n",
              "      <td>2Story</td>\n",
              "      <td>Gable</td>\n",
              "      <td>SS</td>\n",
              "      <td>Wd Sdng</td>\n",
              "      <td>Wd Shng</td>\n",
              "      <td>None</td>\n",
              "      <td>TA</td>\n",
              "      <td>TA</td>\n",
              "      <td>BT</td>\n",
              "      <td>TA</td>\n",
              "      <td>Gd</td>\n",
              "      <td>No</td>\n",
              "      <td>ALQ</td>\n",
              "      <td>Unf</td>\n",
              "      <td>GasA</td>\n",
              "      <td>Gd</td>\n",
              "      <td>Y</td>\n",
              "      <td>SBrkr</td>\n",
              "      <td>Gd</td>\n",
              "      <td>TF</td>\n",
              "      <td>Gd</td>\n",
              "      <td>Detchd</td>\n",
              "      <td>Unf</td>\n",
              "      <td>TA</td>\n",
              "      <td>TA</td>\n",
              "      <td>Y</td>\n",
              "      <td>NaN</td>\n",
              "      <td>NaN</td>\n",
              "      <td>NaN</td>\n",
              "      <td>WD</td>\n",
              "      <td>Abnorml</td>\n",
              "    </tr>\n",
              "    <tr>\n",
              "      <th>4</th>\n",
              "      <td>RLD</td>\n",
              "      <td>Paved</td>\n",
              "      <td>NaN</td>\n",
              "      <td>IR1</td>\n",
              "      <td>Lvl</td>\n",
              "      <td>AllPub</td>\n",
              "      <td>FR2P</td>\n",
              "      <td>GS</td>\n",
              "      <td>NoRidge</td>\n",
              "      <td>Norm</td>\n",
              "      <td>Norm</td>\n",
              "      <td>1Fam</td>\n",
              "      <td>2Story</td>\n",
              "      <td>Gable</td>\n",
              "      <td>SS</td>\n",
              "      <td>VinylSd</td>\n",
              "      <td>VinylSd</td>\n",
              "      <td>BrkFace</td>\n",
              "      <td>Gd</td>\n",
              "      <td>TA</td>\n",
              "      <td>PC</td>\n",
              "      <td>Gd</td>\n",
              "      <td>TA</td>\n",
              "      <td>Av</td>\n",
              "      <td>GLQ</td>\n",
              "      <td>Unf</td>\n",
              "      <td>GasA</td>\n",
              "      <td>Ex</td>\n",
              "      <td>Y</td>\n",
              "      <td>SBrkr</td>\n",
              "      <td>Gd</td>\n",
              "      <td>TF</td>\n",
              "      <td>TA</td>\n",
              "      <td>Attchd</td>\n",
              "      <td>RFn</td>\n",
              "      <td>TA</td>\n",
              "      <td>TA</td>\n",
              "      <td>Y</td>\n",
              "      <td>NaN</td>\n",
              "      <td>NaN</td>\n",
              "      <td>NaN</td>\n",
              "      <td>WD</td>\n",
              "      <td>Normal</td>\n",
              "    </tr>\n",
              "  </tbody>\n",
              "</table>\n",
              "</div>"
            ],
            "text/plain": [
              "  Zoning_Class Road_Type  ... Sale_Type Sale_Condition\n",
              "0          RLD     Paved  ...        WD         Normal\n",
              "1          RLD     Paved  ...        WD         Normal\n",
              "2          RLD     Paved  ...        WD         Normal\n",
              "3          RLD     Paved  ...        WD        Abnorml\n",
              "4          RLD     Paved  ...        WD         Normal\n",
              "\n",
              "[5 rows x 43 columns]"
            ]
          },
          "metadata": {},
          "execution_count": 126
        }
      ]
    },
    {
      "cell_type": "code",
      "metadata": {
        "id": "BPi7OQE1xjpv"
      },
      "source": [
        "numeric_data = file[numeric_columns]"
      ],
      "execution_count": 127,
      "outputs": []
    },
    {
      "cell_type": "code",
      "metadata": {
        "colab": {
          "base_uri": "https://localhost:8080/",
          "height": 224
        },
        "id": "x6Bu5BWOxpbw",
        "outputId": "e28f8b82-d6bc-40b1-dd42-ff1e043a4e64"
      },
      "source": [
        "numeric_data.head()"
      ],
      "execution_count": 128,
      "outputs": [
        {
          "output_type": "execute_result",
          "data": {
            "text/html": [
              "<div>\n",
              "<style scoped>\n",
              "    .dataframe tbody tr th:only-of-type {\n",
              "        vertical-align: middle;\n",
              "    }\n",
              "\n",
              "    .dataframe tbody tr th {\n",
              "        vertical-align: top;\n",
              "    }\n",
              "\n",
              "    .dataframe thead th {\n",
              "        text-align: right;\n",
              "    }\n",
              "</style>\n",
              "<table border=\"1\" class=\"dataframe\">\n",
              "  <thead>\n",
              "    <tr style=\"text-align: right;\">\n",
              "      <th></th>\n",
              "      <th>Id</th>\n",
              "      <th>Building_Class</th>\n",
              "      <th>Lot_Extent</th>\n",
              "      <th>Lot_Size</th>\n",
              "      <th>Overall_Material</th>\n",
              "      <th>House_Condition</th>\n",
              "      <th>Construction_Year</th>\n",
              "      <th>Remodel_Year</th>\n",
              "      <th>Brick_Veneer_Area</th>\n",
              "      <th>BsmtFinSF1</th>\n",
              "      <th>BsmtFinSF2</th>\n",
              "      <th>BsmtUnfSF</th>\n",
              "      <th>Total_Basement_Area</th>\n",
              "      <th>First_Floor_Area</th>\n",
              "      <th>Second_Floor_Area</th>\n",
              "      <th>LowQualFinSF</th>\n",
              "      <th>Grade_Living_Area</th>\n",
              "      <th>Underground_Full_Bathroom</th>\n",
              "      <th>Underground_Half_Bathroom</th>\n",
              "      <th>Full_Bathroom_Above_Grade</th>\n",
              "      <th>Half_Bathroom_Above_Grade</th>\n",
              "      <th>Bedroom_Above_Grade</th>\n",
              "      <th>Kitchen_Above_Grade</th>\n",
              "      <th>Rooms_Above_Grade</th>\n",
              "      <th>Fireplaces</th>\n",
              "      <th>Garage_Built_Year</th>\n",
              "      <th>Garage_Size</th>\n",
              "      <th>Garage_Area</th>\n",
              "      <th>W_Deck_Area</th>\n",
              "      <th>Open_Lobby_Area</th>\n",
              "      <th>Enclosed_Lobby_Area</th>\n",
              "      <th>Three_Season_Lobby_Area</th>\n",
              "      <th>Screen_Lobby_Area</th>\n",
              "      <th>Pool_Area</th>\n",
              "      <th>Miscellaneous_Value</th>\n",
              "      <th>Month_Sold</th>\n",
              "      <th>Year_Sold</th>\n",
              "      <th>Sale_Price</th>\n",
              "    </tr>\n",
              "  </thead>\n",
              "  <tbody>\n",
              "    <tr>\n",
              "      <th>0</th>\n",
              "      <td>1</td>\n",
              "      <td>60</td>\n",
              "      <td>65.0</td>\n",
              "      <td>8450</td>\n",
              "      <td>7</td>\n",
              "      <td>5</td>\n",
              "      <td>2003</td>\n",
              "      <td>2003</td>\n",
              "      <td>196.0</td>\n",
              "      <td>706</td>\n",
              "      <td>0</td>\n",
              "      <td>150</td>\n",
              "      <td>856</td>\n",
              "      <td>856</td>\n",
              "      <td>854</td>\n",
              "      <td>0</td>\n",
              "      <td>1710</td>\n",
              "      <td>1</td>\n",
              "      <td>0</td>\n",
              "      <td>2</td>\n",
              "      <td>1</td>\n",
              "      <td>3</td>\n",
              "      <td>1</td>\n",
              "      <td>8</td>\n",
              "      <td>0</td>\n",
              "      <td>2003.0</td>\n",
              "      <td>2</td>\n",
              "      <td>1085.793744</td>\n",
              "      <td>163.788080</td>\n",
              "      <td>69.596115</td>\n",
              "      <td>20.337934</td>\n",
              "      <td>0</td>\n",
              "      <td>0</td>\n",
              "      <td>0</td>\n",
              "      <td>0</td>\n",
              "      <td>2</td>\n",
              "      <td>2008</td>\n",
              "      <td>208500</td>\n",
              "    </tr>\n",
              "    <tr>\n",
              "      <th>1</th>\n",
              "      <td>2</td>\n",
              "      <td>20</td>\n",
              "      <td>80.0</td>\n",
              "      <td>9600</td>\n",
              "      <td>6</td>\n",
              "      <td>8</td>\n",
              "      <td>1976</td>\n",
              "      <td>1976</td>\n",
              "      <td>0.0</td>\n",
              "      <td>978</td>\n",
              "      <td>0</td>\n",
              "      <td>284</td>\n",
              "      <td>1262</td>\n",
              "      <td>1262</td>\n",
              "      <td>0</td>\n",
              "      <td>0</td>\n",
              "      <td>1262</td>\n",
              "      <td>0</td>\n",
              "      <td>1</td>\n",
              "      <td>2</td>\n",
              "      <td>0</td>\n",
              "      <td>3</td>\n",
              "      <td>1</td>\n",
              "      <td>6</td>\n",
              "      <td>1</td>\n",
              "      <td>1976.0</td>\n",
              "      <td>2</td>\n",
              "      <td>196.316304</td>\n",
              "      <td>198.900074</td>\n",
              "      <td>74.716033</td>\n",
              "      <td>15.039392</td>\n",
              "      <td>0</td>\n",
              "      <td>0</td>\n",
              "      <td>0</td>\n",
              "      <td>0</td>\n",
              "      <td>5</td>\n",
              "      <td>2007</td>\n",
              "      <td>181500</td>\n",
              "    </tr>\n",
              "    <tr>\n",
              "      <th>2</th>\n",
              "      <td>3</td>\n",
              "      <td>60</td>\n",
              "      <td>68.0</td>\n",
              "      <td>11250</td>\n",
              "      <td>7</td>\n",
              "      <td>5</td>\n",
              "      <td>2001</td>\n",
              "      <td>2002</td>\n",
              "      <td>162.0</td>\n",
              "      <td>486</td>\n",
              "      <td>0</td>\n",
              "      <td>434</td>\n",
              "      <td>920</td>\n",
              "      <td>920</td>\n",
              "      <td>866</td>\n",
              "      <td>0</td>\n",
              "      <td>1786</td>\n",
              "      <td>1</td>\n",
              "      <td>0</td>\n",
              "      <td>2</td>\n",
              "      <td>1</td>\n",
              "      <td>3</td>\n",
              "      <td>1</td>\n",
              "      <td>6</td>\n",
              "      <td>1</td>\n",
              "      <td>2001.0</td>\n",
              "      <td>2</td>\n",
              "      <td>218.068403</td>\n",
              "      <td>26.127533</td>\n",
              "      <td>32.085268</td>\n",
              "      <td>-46.232198</td>\n",
              "      <td>0</td>\n",
              "      <td>0</td>\n",
              "      <td>0</td>\n",
              "      <td>0</td>\n",
              "      <td>9</td>\n",
              "      <td>2008</td>\n",
              "      <td>223500</td>\n",
              "    </tr>\n",
              "    <tr>\n",
              "      <th>3</th>\n",
              "      <td>4</td>\n",
              "      <td>70</td>\n",
              "      <td>60.0</td>\n",
              "      <td>9550</td>\n",
              "      <td>7</td>\n",
              "      <td>5</td>\n",
              "      <td>1915</td>\n",
              "      <td>1970</td>\n",
              "      <td>0.0</td>\n",
              "      <td>216</td>\n",
              "      <td>0</td>\n",
              "      <td>540</td>\n",
              "      <td>756</td>\n",
              "      <td>961</td>\n",
              "      <td>756</td>\n",
              "      <td>0</td>\n",
              "      <td>1717</td>\n",
              "      <td>1</td>\n",
              "      <td>0</td>\n",
              "      <td>1</td>\n",
              "      <td>0</td>\n",
              "      <td>3</td>\n",
              "      <td>1</td>\n",
              "      <td>7</td>\n",
              "      <td>1</td>\n",
              "      <td>1998.0</td>\n",
              "      <td>3</td>\n",
              "      <td>696.996439</td>\n",
              "      <td>46.948018</td>\n",
              "      <td>40.181415</td>\n",
              "      <td>60.921821</td>\n",
              "      <td>0</td>\n",
              "      <td>0</td>\n",
              "      <td>0</td>\n",
              "      <td>0</td>\n",
              "      <td>2</td>\n",
              "      <td>2006</td>\n",
              "      <td>140000</td>\n",
              "    </tr>\n",
              "    <tr>\n",
              "      <th>4</th>\n",
              "      <td>5</td>\n",
              "      <td>60</td>\n",
              "      <td>84.0</td>\n",
              "      <td>14260</td>\n",
              "      <td>8</td>\n",
              "      <td>5</td>\n",
              "      <td>2000</td>\n",
              "      <td>2000</td>\n",
              "      <td>350.0</td>\n",
              "      <td>655</td>\n",
              "      <td>0</td>\n",
              "      <td>490</td>\n",
              "      <td>1145</td>\n",
              "      <td>1145</td>\n",
              "      <td>1053</td>\n",
              "      <td>0</td>\n",
              "      <td>2198</td>\n",
              "      <td>1</td>\n",
              "      <td>0</td>\n",
              "      <td>2</td>\n",
              "      <td>1</td>\n",
              "      <td>4</td>\n",
              "      <td>1</td>\n",
              "      <td>9</td>\n",
              "      <td>1</td>\n",
              "      <td>2000.0</td>\n",
              "      <td>3</td>\n",
              "      <td>568.859882</td>\n",
              "      <td>-10.626105</td>\n",
              "      <td>20.755323</td>\n",
              "      <td>21.788818</td>\n",
              "      <td>0</td>\n",
              "      <td>0</td>\n",
              "      <td>0</td>\n",
              "      <td>0</td>\n",
              "      <td>12</td>\n",
              "      <td>2008</td>\n",
              "      <td>250000</td>\n",
              "    </tr>\n",
              "  </tbody>\n",
              "</table>\n",
              "</div>"
            ],
            "text/plain": [
              "   Id  Building_Class  Lot_Extent  ...  Month_Sold  Year_Sold  Sale_Price\n",
              "0   1              60        65.0  ...           2       2008      208500\n",
              "1   2              20        80.0  ...           5       2007      181500\n",
              "2   3              60        68.0  ...           9       2008      223500\n",
              "3   4              70        60.0  ...           2       2006      140000\n",
              "4   5              60        84.0  ...          12       2008      250000\n",
              "\n",
              "[5 rows x 38 columns]"
            ]
          },
          "metadata": {},
          "execution_count": 128
        }
      ]
    },
    {
      "cell_type": "code",
      "metadata": {
        "id": "YJtyY-VDx2t4"
      },
      "source": [
        "data = numeric_data"
      ],
      "execution_count": 129,
      "outputs": []
    },
    {
      "cell_type": "code",
      "metadata": {
        "colab": {
          "base_uri": "https://localhost:8080/"
        },
        "id": "ShQG7bzvyUHv",
        "outputId": "68c50f60-a037-4cb1-b277-235e4fa1b287"
      },
      "source": [
        "data.shape"
      ],
      "execution_count": 130,
      "outputs": [
        {
          "output_type": "execute_result",
          "data": {
            "text/plain": [
              "(1459, 38)"
            ]
          },
          "metadata": {},
          "execution_count": 130
        }
      ]
    },
    {
      "cell_type": "code",
      "metadata": {
        "id": "-SIKz0nD0jiL"
      },
      "source": [
        "data=data.drop(\"Id\",axis=1)"
      ],
      "execution_count": 131,
      "outputs": []
    },
    {
      "cell_type": "code",
      "metadata": {
        "colab": {
          "base_uri": "https://localhost:8080/"
        },
        "id": "bsIadFso3rwq",
        "outputId": "6b9c3837-be65-4bf2-9222-a6de8722525f"
      },
      "source": [
        "data.shape"
      ],
      "execution_count": 132,
      "outputs": [
        {
          "output_type": "execute_result",
          "data": {
            "text/plain": [
              "(1459, 37)"
            ]
          },
          "metadata": {},
          "execution_count": 132
        }
      ]
    },
    {
      "cell_type": "code",
      "metadata": {
        "colab": {
          "base_uri": "https://localhost:8080/"
        },
        "id": "twuHmmXY4_YF",
        "outputId": "381c0ace-12a5-4847-8d99-a3ccd7ef3574"
      },
      "source": [
        "data.isna().sum().sort_values(ascending=False)"
      ],
      "execution_count": 133,
      "outputs": [
        {
          "output_type": "execute_result",
          "data": {
            "text/plain": [
              "Lot_Extent                   259\n",
              "Garage_Built_Year             81\n",
              "Brick_Veneer_Area              8\n",
              "Sale_Price                     0\n",
              "BsmtUnfSF                      0\n",
              "Grade_Living_Area              0\n",
              "LowQualFinSF                   0\n",
              "Second_Floor_Area              0\n",
              "First_Floor_Area               0\n",
              "Total_Basement_Area            0\n",
              "BsmtFinSF1                     0\n",
              "BsmtFinSF2                     0\n",
              "Underground_Half_Bathroom      0\n",
              "Remodel_Year                   0\n",
              "Construction_Year              0\n",
              "House_Condition                0\n",
              "Overall_Material               0\n",
              "Lot_Size                       0\n",
              "Underground_Full_Bathroom      0\n",
              "Full_Bathroom_Above_Grade      0\n",
              "Year_Sold                      0\n",
              "Open_Lobby_Area                0\n",
              "Month_Sold                     0\n",
              "Miscellaneous_Value            0\n",
              "Pool_Area                      0\n",
              "Screen_Lobby_Area              0\n",
              "Three_Season_Lobby_Area        0\n",
              "Enclosed_Lobby_Area            0\n",
              "W_Deck_Area                    0\n",
              "Half_Bathroom_Above_Grade      0\n",
              "Garage_Area                    0\n",
              "Garage_Size                    0\n",
              "Fireplaces                     0\n",
              "Rooms_Above_Grade              0\n",
              "Kitchen_Above_Grade            0\n",
              "Bedroom_Above_Grade            0\n",
              "Building_Class                 0\n",
              "dtype: int64"
            ]
          },
          "metadata": {},
          "execution_count": 133
        }
      ]
    },
    {
      "cell_type": "code",
      "metadata": {
        "id": "8aKEGEIr5Wdh"
      },
      "source": [
        "data['Lot_Extent'].fillna(data['Lot_Extent'].median(),inplace=True)\n",
        "\n",
        "data['Garage_Built_Year'].fillna(data['Garage_Built_Year'].median(),inplace=True)\n",
        "\n",
        "data['Brick_Veneer_Area'].fillna(data['Brick_Veneer_Area'].median(),inplace=True)"
      ],
      "execution_count": 134,
      "outputs": []
    },
    {
      "cell_type": "code",
      "metadata": {
        "colab": {
          "base_uri": "https://localhost:8080/"
        },
        "id": "0FladzgB66fi",
        "outputId": "beb92c99-7f58-4d28-e110-6e8c2dbc3ad0"
      },
      "source": [
        "data.isna().sum().sort_values(ascending=False)"
      ],
      "execution_count": 135,
      "outputs": [
        {
          "output_type": "execute_result",
          "data": {
            "text/plain": [
              "Sale_Price                   0\n",
              "Underground_Half_Bathroom    0\n",
              "Grade_Living_Area            0\n",
              "LowQualFinSF                 0\n",
              "Second_Floor_Area            0\n",
              "First_Floor_Area             0\n",
              "Total_Basement_Area          0\n",
              "BsmtUnfSF                    0\n",
              "BsmtFinSF2                   0\n",
              "BsmtFinSF1                   0\n",
              "Brick_Veneer_Area            0\n",
              "Remodel_Year                 0\n",
              "Construction_Year            0\n",
              "House_Condition              0\n",
              "Overall_Material             0\n",
              "Lot_Size                     0\n",
              "Lot_Extent                   0\n",
              "Underground_Full_Bathroom    0\n",
              "Full_Bathroom_Above_Grade    0\n",
              "Year_Sold                    0\n",
              "Half_Bathroom_Above_Grade    0\n",
              "Month_Sold                   0\n",
              "Miscellaneous_Value          0\n",
              "Pool_Area                    0\n",
              "Screen_Lobby_Area            0\n",
              "Three_Season_Lobby_Area      0\n",
              "Enclosed_Lobby_Area          0\n",
              "Open_Lobby_Area              0\n",
              "W_Deck_Area                  0\n",
              "Garage_Area                  0\n",
              "Garage_Size                  0\n",
              "Garage_Built_Year            0\n",
              "Fireplaces                   0\n",
              "Rooms_Above_Grade            0\n",
              "Kitchen_Above_Grade          0\n",
              "Bedroom_Above_Grade          0\n",
              "Building_Class               0\n",
              "dtype: int64"
            ]
          },
          "metadata": {},
          "execution_count": 135
        }
      ]
    },
    {
      "cell_type": "code",
      "metadata": {
        "colab": {
          "base_uri": "https://localhost:8080/",
          "height": 224
        },
        "id": "fAZNhroU41Ba",
        "outputId": "a57e4400-0b38-4013-a384-a1ccb0bbeb45"
      },
      "source": [
        "data.head()"
      ],
      "execution_count": 136,
      "outputs": [
        {
          "output_type": "execute_result",
          "data": {
            "text/html": [
              "<div>\n",
              "<style scoped>\n",
              "    .dataframe tbody tr th:only-of-type {\n",
              "        vertical-align: middle;\n",
              "    }\n",
              "\n",
              "    .dataframe tbody tr th {\n",
              "        vertical-align: top;\n",
              "    }\n",
              "\n",
              "    .dataframe thead th {\n",
              "        text-align: right;\n",
              "    }\n",
              "</style>\n",
              "<table border=\"1\" class=\"dataframe\">\n",
              "  <thead>\n",
              "    <tr style=\"text-align: right;\">\n",
              "      <th></th>\n",
              "      <th>Building_Class</th>\n",
              "      <th>Lot_Extent</th>\n",
              "      <th>Lot_Size</th>\n",
              "      <th>Overall_Material</th>\n",
              "      <th>House_Condition</th>\n",
              "      <th>Construction_Year</th>\n",
              "      <th>Remodel_Year</th>\n",
              "      <th>Brick_Veneer_Area</th>\n",
              "      <th>BsmtFinSF1</th>\n",
              "      <th>BsmtFinSF2</th>\n",
              "      <th>BsmtUnfSF</th>\n",
              "      <th>Total_Basement_Area</th>\n",
              "      <th>First_Floor_Area</th>\n",
              "      <th>Second_Floor_Area</th>\n",
              "      <th>LowQualFinSF</th>\n",
              "      <th>Grade_Living_Area</th>\n",
              "      <th>Underground_Full_Bathroom</th>\n",
              "      <th>Underground_Half_Bathroom</th>\n",
              "      <th>Full_Bathroom_Above_Grade</th>\n",
              "      <th>Half_Bathroom_Above_Grade</th>\n",
              "      <th>Bedroom_Above_Grade</th>\n",
              "      <th>Kitchen_Above_Grade</th>\n",
              "      <th>Rooms_Above_Grade</th>\n",
              "      <th>Fireplaces</th>\n",
              "      <th>Garage_Built_Year</th>\n",
              "      <th>Garage_Size</th>\n",
              "      <th>Garage_Area</th>\n",
              "      <th>W_Deck_Area</th>\n",
              "      <th>Open_Lobby_Area</th>\n",
              "      <th>Enclosed_Lobby_Area</th>\n",
              "      <th>Three_Season_Lobby_Area</th>\n",
              "      <th>Screen_Lobby_Area</th>\n",
              "      <th>Pool_Area</th>\n",
              "      <th>Miscellaneous_Value</th>\n",
              "      <th>Month_Sold</th>\n",
              "      <th>Year_Sold</th>\n",
              "      <th>Sale_Price</th>\n",
              "    </tr>\n",
              "  </thead>\n",
              "  <tbody>\n",
              "    <tr>\n",
              "      <th>0</th>\n",
              "      <td>60</td>\n",
              "      <td>65.0</td>\n",
              "      <td>8450</td>\n",
              "      <td>7</td>\n",
              "      <td>5</td>\n",
              "      <td>2003</td>\n",
              "      <td>2003</td>\n",
              "      <td>196.0</td>\n",
              "      <td>706</td>\n",
              "      <td>0</td>\n",
              "      <td>150</td>\n",
              "      <td>856</td>\n",
              "      <td>856</td>\n",
              "      <td>854</td>\n",
              "      <td>0</td>\n",
              "      <td>1710</td>\n",
              "      <td>1</td>\n",
              "      <td>0</td>\n",
              "      <td>2</td>\n",
              "      <td>1</td>\n",
              "      <td>3</td>\n",
              "      <td>1</td>\n",
              "      <td>8</td>\n",
              "      <td>0</td>\n",
              "      <td>2003.0</td>\n",
              "      <td>2</td>\n",
              "      <td>1085.793744</td>\n",
              "      <td>163.788080</td>\n",
              "      <td>69.596115</td>\n",
              "      <td>20.337934</td>\n",
              "      <td>0</td>\n",
              "      <td>0</td>\n",
              "      <td>0</td>\n",
              "      <td>0</td>\n",
              "      <td>2</td>\n",
              "      <td>2008</td>\n",
              "      <td>208500</td>\n",
              "    </tr>\n",
              "    <tr>\n",
              "      <th>1</th>\n",
              "      <td>20</td>\n",
              "      <td>80.0</td>\n",
              "      <td>9600</td>\n",
              "      <td>6</td>\n",
              "      <td>8</td>\n",
              "      <td>1976</td>\n",
              "      <td>1976</td>\n",
              "      <td>0.0</td>\n",
              "      <td>978</td>\n",
              "      <td>0</td>\n",
              "      <td>284</td>\n",
              "      <td>1262</td>\n",
              "      <td>1262</td>\n",
              "      <td>0</td>\n",
              "      <td>0</td>\n",
              "      <td>1262</td>\n",
              "      <td>0</td>\n",
              "      <td>1</td>\n",
              "      <td>2</td>\n",
              "      <td>0</td>\n",
              "      <td>3</td>\n",
              "      <td>1</td>\n",
              "      <td>6</td>\n",
              "      <td>1</td>\n",
              "      <td>1976.0</td>\n",
              "      <td>2</td>\n",
              "      <td>196.316304</td>\n",
              "      <td>198.900074</td>\n",
              "      <td>74.716033</td>\n",
              "      <td>15.039392</td>\n",
              "      <td>0</td>\n",
              "      <td>0</td>\n",
              "      <td>0</td>\n",
              "      <td>0</td>\n",
              "      <td>5</td>\n",
              "      <td>2007</td>\n",
              "      <td>181500</td>\n",
              "    </tr>\n",
              "    <tr>\n",
              "      <th>2</th>\n",
              "      <td>60</td>\n",
              "      <td>68.0</td>\n",
              "      <td>11250</td>\n",
              "      <td>7</td>\n",
              "      <td>5</td>\n",
              "      <td>2001</td>\n",
              "      <td>2002</td>\n",
              "      <td>162.0</td>\n",
              "      <td>486</td>\n",
              "      <td>0</td>\n",
              "      <td>434</td>\n",
              "      <td>920</td>\n",
              "      <td>920</td>\n",
              "      <td>866</td>\n",
              "      <td>0</td>\n",
              "      <td>1786</td>\n",
              "      <td>1</td>\n",
              "      <td>0</td>\n",
              "      <td>2</td>\n",
              "      <td>1</td>\n",
              "      <td>3</td>\n",
              "      <td>1</td>\n",
              "      <td>6</td>\n",
              "      <td>1</td>\n",
              "      <td>2001.0</td>\n",
              "      <td>2</td>\n",
              "      <td>218.068403</td>\n",
              "      <td>26.127533</td>\n",
              "      <td>32.085268</td>\n",
              "      <td>-46.232198</td>\n",
              "      <td>0</td>\n",
              "      <td>0</td>\n",
              "      <td>0</td>\n",
              "      <td>0</td>\n",
              "      <td>9</td>\n",
              "      <td>2008</td>\n",
              "      <td>223500</td>\n",
              "    </tr>\n",
              "    <tr>\n",
              "      <th>3</th>\n",
              "      <td>70</td>\n",
              "      <td>60.0</td>\n",
              "      <td>9550</td>\n",
              "      <td>7</td>\n",
              "      <td>5</td>\n",
              "      <td>1915</td>\n",
              "      <td>1970</td>\n",
              "      <td>0.0</td>\n",
              "      <td>216</td>\n",
              "      <td>0</td>\n",
              "      <td>540</td>\n",
              "      <td>756</td>\n",
              "      <td>961</td>\n",
              "      <td>756</td>\n",
              "      <td>0</td>\n",
              "      <td>1717</td>\n",
              "      <td>1</td>\n",
              "      <td>0</td>\n",
              "      <td>1</td>\n",
              "      <td>0</td>\n",
              "      <td>3</td>\n",
              "      <td>1</td>\n",
              "      <td>7</td>\n",
              "      <td>1</td>\n",
              "      <td>1998.0</td>\n",
              "      <td>3</td>\n",
              "      <td>696.996439</td>\n",
              "      <td>46.948018</td>\n",
              "      <td>40.181415</td>\n",
              "      <td>60.921821</td>\n",
              "      <td>0</td>\n",
              "      <td>0</td>\n",
              "      <td>0</td>\n",
              "      <td>0</td>\n",
              "      <td>2</td>\n",
              "      <td>2006</td>\n",
              "      <td>140000</td>\n",
              "    </tr>\n",
              "    <tr>\n",
              "      <th>4</th>\n",
              "      <td>60</td>\n",
              "      <td>84.0</td>\n",
              "      <td>14260</td>\n",
              "      <td>8</td>\n",
              "      <td>5</td>\n",
              "      <td>2000</td>\n",
              "      <td>2000</td>\n",
              "      <td>350.0</td>\n",
              "      <td>655</td>\n",
              "      <td>0</td>\n",
              "      <td>490</td>\n",
              "      <td>1145</td>\n",
              "      <td>1145</td>\n",
              "      <td>1053</td>\n",
              "      <td>0</td>\n",
              "      <td>2198</td>\n",
              "      <td>1</td>\n",
              "      <td>0</td>\n",
              "      <td>2</td>\n",
              "      <td>1</td>\n",
              "      <td>4</td>\n",
              "      <td>1</td>\n",
              "      <td>9</td>\n",
              "      <td>1</td>\n",
              "      <td>2000.0</td>\n",
              "      <td>3</td>\n",
              "      <td>568.859882</td>\n",
              "      <td>-10.626105</td>\n",
              "      <td>20.755323</td>\n",
              "      <td>21.788818</td>\n",
              "      <td>0</td>\n",
              "      <td>0</td>\n",
              "      <td>0</td>\n",
              "      <td>0</td>\n",
              "      <td>12</td>\n",
              "      <td>2008</td>\n",
              "      <td>250000</td>\n",
              "    </tr>\n",
              "  </tbody>\n",
              "</table>\n",
              "</div>"
            ],
            "text/plain": [
              "   Building_Class  Lot_Extent  Lot_Size  ...  Month_Sold  Year_Sold  Sale_Price\n",
              "0              60        65.0      8450  ...           2       2008      208500\n",
              "1              20        80.0      9600  ...           5       2007      181500\n",
              "2              60        68.0     11250  ...           9       2008      223500\n",
              "3              70        60.0      9550  ...           2       2006      140000\n",
              "4              60        84.0     14260  ...          12       2008      250000\n",
              "\n",
              "[5 rows x 37 columns]"
            ]
          },
          "metadata": {},
          "execution_count": 136
        }
      ]
    },
    {
      "cell_type": "code",
      "metadata": {
        "id": "Q94q7e8O0VPH"
      },
      "source": [
        "X = data.iloc[:,:-1]\n",
        "\n",
        "y= data.iloc[:,-1]"
      ],
      "execution_count": 137,
      "outputs": []
    },
    {
      "cell_type": "code",
      "metadata": {
        "id": "mMVP7dD-1tG9"
      },
      "source": [
        "from sklearn.model_selection import train_test_split"
      ],
      "execution_count": 138,
      "outputs": []
    },
    {
      "cell_type": "code",
      "metadata": {
        "id": "VjWD02zQ16tN"
      },
      "source": [
        "Xtrain,Xtest,ytrain,ytest = train_test_split(X,y,train_size=0.75,test_size=0.25)"
      ],
      "execution_count": 139,
      "outputs": []
    },
    {
      "cell_type": "code",
      "metadata": {
        "colab": {
          "base_uri": "https://localhost:8080/"
        },
        "id": "I0thcg8X2Xyt",
        "outputId": "e14568ab-294c-4657-8f9a-7ee9ca528193"
      },
      "source": [
        "print('Xtrain size is=',Xtrain.shape)\n",
        "print('Xtest size is=',Xtest.shape)\n",
        "print('ytrain size is=',ytrain.shape)\n",
        "print('ytest size is=',ytest.shape)"
      ],
      "execution_count": 140,
      "outputs": [
        {
          "output_type": "stream",
          "name": "stdout",
          "text": [
            "Xtrain size is= (1094, 36)\n",
            "Xtest size is= (365, 36)\n",
            "ytrain size is= (1094,)\n",
            "ytest size is= (365,)\n"
          ]
        }
      ]
    },
    {
      "cell_type": "code",
      "metadata": {
        "id": "ie7eWuwV2uEW"
      },
      "source": [
        "from sklearn.linear_model import LinearRegression"
      ],
      "execution_count": 141,
      "outputs": []
    },
    {
      "cell_type": "code",
      "metadata": {
        "id": "gerSAMtZ4Jnm"
      },
      "source": [
        "model = LinearRegression().fit(X,y)"
      ],
      "execution_count": 142,
      "outputs": []
    },
    {
      "cell_type": "code",
      "metadata": {
        "colab": {
          "base_uri": "https://localhost:8080/"
        },
        "id": "yIMAMC0i8BJI",
        "outputId": "1d295098-9d4b-4b03-a1fc-7aee3a0455fb"
      },
      "source": [
        "model.intercept_"
      ],
      "execution_count": 143,
      "outputs": [
        {
          "output_type": "execute_result",
          "data": {
            "text/plain": [
              "304951.2178206349"
            ]
          },
          "metadata": {},
          "execution_count": 143
        }
      ]
    },
    {
      "cell_type": "code",
      "metadata": {
        "colab": {
          "base_uri": "https://localhost:8080/"
        },
        "id": "MEk0YBlH4QKn",
        "outputId": "b5858aaa-7d71-47f7-e2f3-962ba6cce11f"
      },
      "source": [
        "model.coef_"
      ],
      "execution_count": 144,
      "outputs": [
        {
          "output_type": "execute_result",
          "data": {
            "text/plain": [
              "array([-1.82248468e+02, -6.72437428e+01,  4.51626447e-01,  1.72788661e+04,\n",
              "        4.80460692e+03,  2.67643102e+02,  1.38726791e+02,  3.14903399e+01,\n",
              "        9.68014852e+00,  6.23378694e-04, -1.80480115e-01,  9.50029179e+00,\n",
              "        1.85993478e+01,  1.85972174e+01, -5.85997718e+00,  3.13365880e+01,\n",
              "        9.93006387e+03,  2.73253440e+03,  3.49963477e+03, -1.89996143e+03,\n",
              "       -1.01197470e+04, -1.31599364e+04,  5.07889019e+03,  4.28917047e+03,\n",
              "        1.33974747e+02,  1.04538287e+04,  1.07633061e+00,  2.29098677e+00,\n",
              "        7.25138984e+00,  1.04083159e+01,  1.42533848e+01,  4.69074629e+01,\n",
              "       -2.60648877e+01, -6.63877362e-01, -2.62815364e+01, -7.11872473e+02])"
            ]
          },
          "metadata": {},
          "execution_count": 144
        }
      ]
    },
    {
      "cell_type": "code",
      "metadata": {
        "colab": {
          "base_uri": "https://localhost:8080/"
        },
        "id": "2rTpc5Os7NN0",
        "outputId": "24b5ceaf-b7d6-4466-d3a6-106e030e2d3f"
      },
      "source": [
        "data.columns\n"
      ],
      "execution_count": 145,
      "outputs": [
        {
          "output_type": "execute_result",
          "data": {
            "text/plain": [
              "Index(['Building_Class', 'Lot_Extent', 'Lot_Size', 'Overall_Material',\n",
              "       'House_Condition', 'Construction_Year', 'Remodel_Year',\n",
              "       'Brick_Veneer_Area', 'BsmtFinSF1', 'BsmtFinSF2', 'BsmtUnfSF',\n",
              "       'Total_Basement_Area', 'First_Floor_Area', 'Second_Floor_Area',\n",
              "       'LowQualFinSF', 'Grade_Living_Area', 'Underground_Full_Bathroom',\n",
              "       'Underground_Half_Bathroom', 'Full_Bathroom_Above_Grade',\n",
              "       'Half_Bathroom_Above_Grade', 'Bedroom_Above_Grade',\n",
              "       'Kitchen_Above_Grade', 'Rooms_Above_Grade', 'Fireplaces',\n",
              "       'Garage_Built_Year', 'Garage_Size', 'Garage_Area', 'W_Deck_Area',\n",
              "       'Open_Lobby_Area', 'Enclosed_Lobby_Area', 'Three_Season_Lobby_Area',\n",
              "       'Screen_Lobby_Area', 'Pool_Area', 'Miscellaneous_Value', 'Month_Sold',\n",
              "       'Year_Sold', 'Sale_Price'],\n",
              "      dtype='object')"
            ]
          },
          "metadata": {},
          "execution_count": 145
        }
      ]
    },
    {
      "cell_type": "code",
      "metadata": {
        "id": "R5M_FvqQ9Ki4"
      },
      "source": [
        "ypred = model.predict(Xtest)"
      ],
      "execution_count": 146,
      "outputs": []
    },
    {
      "cell_type": "code",
      "metadata": {
        "colab": {
          "base_uri": "https://localhost:8080/"
        },
        "id": "UfOOhjo19FYE",
        "outputId": "2e4c750a-8627-4a38-de8d-ad7cd92f0ef0"
      },
      "source": [
        "ypred"
      ],
      "execution_count": 147,
      "outputs": [
        {
          "output_type": "execute_result",
          "data": {
            "text/plain": [
              "array([319300.5595196 , 208469.2956393 , 236093.85761077, 323775.37442777,\n",
              "        81194.07621072, 180827.1178562 , 106740.1950356 , 235562.16872428,\n",
              "       199943.87044552, 133603.45390186, 133428.77193156, 126765.87441315,\n",
              "       190752.58803817, 176728.87730716, 139445.93777922, 139582.2157313 ,\n",
              "       137309.14880685, 110116.52535598, 196090.7690615 , 234630.0175399 ,\n",
              "       110882.58757847, 214858.94788316, 111179.99513197, 226069.58554692,\n",
              "       153439.74008402, 234139.19927486, 130287.11626668, 109389.13249556,\n",
              "       219983.84241883, 139881.98238094, 130417.03100442, 122468.98035349,\n",
              "       137237.71789197, 131674.14462988, 228685.19739694, 230676.37749066,\n",
              "       203898.49391384, 122264.67813331, 231810.18405985, 145804.49770495,\n",
              "       109816.00890141, 194787.14965501, 119743.07121904, 205980.5851295 ,\n",
              "       174060.73101776, 104462.73845092,  93321.40551865,  92801.94061969,\n",
              "        98221.48127511,  98253.3003875 , 275371.59030844, 280359.76332424,\n",
              "       283908.3632452 , 358555.99851512, 205540.95692626, 188535.86621027,\n",
              "       167183.39471433, 151404.99472023, 211638.04287287, 133381.62286094,\n",
              "       196544.96999453, 170441.73191028, 185553.35422524, 275610.78778896,\n",
              "       240860.39629767,  88899.13085356, 124296.57155441,  69474.24579892,\n",
              "       203362.46515029, 151027.50976498, 167867.09923487, 139312.04470844,\n",
              "        94617.90393079,  90486.82903604, 155284.46414238, 220544.36025517,\n",
              "        86536.02487454, 330104.15761628, 113493.16541939, 151414.68422516,\n",
              "       290057.15654807,  86501.45578719, 114045.01882994, 247684.23588887,\n",
              "       107998.3904728 , 149212.23625606, 157883.98501883, 199942.35617164,\n",
              "       185925.6809702 , 132711.69067773, 318763.13547581, 210712.34602932,\n",
              "       123313.68735517, 113536.16263922, 247197.48413758, 110629.39542328,\n",
              "       232118.9784119 , 339234.78823005, 227166.30273758, 144687.30679492,\n",
              "       244293.21293099, 201112.96041915, 191515.74140261,  52240.61407824,\n",
              "       116067.93328736, 204057.78695287, 191649.20148079, 229289.79362631,\n",
              "       160265.66266871, 290383.78070583, 149318.72768149, 190665.78415708,\n",
              "       262626.93900299, 306184.85202633,  78743.52686905, 120710.75774263,\n",
              "       127072.04709203, 202536.97563579, 250556.84992552, 102161.12897287,\n",
              "       224625.97514588,  86500.70694147, 267348.55643114,  92458.00451224,\n",
              "       284381.71687583, 410408.85311688, 108926.47224698, 287860.54145743,\n",
              "       225155.50520606, 268665.17210048, 101020.06132858, 183271.55075668,\n",
              "       210763.39845711, 106527.95931347, 151105.91322469, 170390.05108892,\n",
              "       273925.32373892, 231699.94752472, 188605.13883243, 222768.7664521 ,\n",
              "       112832.13679237, 241270.66639021, 162202.36434389, 197376.28730702,\n",
              "       178335.36048439, 146161.81216844, 155226.97352342, 284600.07770041,\n",
              "       238374.54614911, 115524.24403292, 270846.5187305 , 212960.76613527,\n",
              "       145775.75553079,  90707.85952363, 237288.09556104, 211965.73308998,\n",
              "       354227.00821897, 262342.75502884, 158015.79937197, 290979.75372348,\n",
              "       301218.05058797, 197104.72189902, 255562.96440536, 261846.50308522,\n",
              "       174960.93176672, 253066.01811218, 214070.23462618, 133874.58633265,\n",
              "       165215.79233962, 184144.64188463, 148750.31230316, 252086.64959596,\n",
              "       124953.07134728, 191180.03391349,  85703.65798089,  68649.53791322,\n",
              "       162086.23378489, 183147.10739825, 138283.61426414, 151325.07985415,\n",
              "       206787.00257463, 207661.5383639 ,  87418.37073823, 195867.45348758,\n",
              "       143120.32211957,  48686.86584726, 218625.60102291, 181823.66177221,\n",
              "       134014.85248301,  88449.5719605 , 207744.51731199,  99701.95691119,\n",
              "        69391.90821206, 163835.1549724 , 200699.14518026, 152693.57656426,\n",
              "       189930.49049612, 222588.52414252, 233858.14281387, 309445.36906487,\n",
              "       186824.18071797, 232284.63635294, 188886.85723724, 153157.88364686,\n",
              "       150811.17568423, 184613.64956702, 141979.8258267 , 122585.8743948 ,\n",
              "       157117.32027169, 189475.29413645, 247855.07838957,  94947.43419856,\n",
              "       274306.93067284, 217420.58042888, 120467.08710251, 244410.20411478,\n",
              "       211506.83817919, 201016.14913908, 293940.7236632 , 178381.21893125,\n",
              "       249085.59918956, 143432.56698644, 192919.49537018, 200011.49781249,\n",
              "       134232.5330076 ,  94916.93195116, 270796.34217681, 101946.63547704,\n",
              "       100637.6840411 ,  98478.79050155, 188035.06120149, 242087.77690461,\n",
              "       189389.47359976,  92874.82554188, 201112.3959438 , 249247.63986898,\n",
              "       204322.0919307 , 195412.00509102, 203809.14592212, 165571.69394697,\n",
              "       209539.33083577, 180402.2060882 , 143969.83891594, 267426.16279578,\n",
              "       152495.08162522, 332524.8758082 ,  89094.25323209, 209276.2516247 ,\n",
              "       167208.325471  ,  74986.08514257, 104483.36890162, 219190.52526278,\n",
              "       159900.42317564, 192347.00908436, 110340.87248698,  59384.50791838,\n",
              "       170415.97857132, 218004.00706298, 111108.4544765 ,  53310.28254783,\n",
              "       193912.65208288,  69985.45293218, 106054.1594909 , 184375.77178678,\n",
              "       129873.58534651, 178436.59944023, 109538.25515893, 201287.95019665,\n",
              "       234864.46373862, 226929.60551127, 267216.36178836, 203576.98465203,\n",
              "        80899.60634085, 200891.3869132 , 157003.35560077, 111486.2434204 ,\n",
              "       134330.9740286 , 217297.00573209, 171346.03047202, 315801.72752492,\n",
              "       123519.72250924, 182938.46679089, 117452.66148824, 254612.08556358,\n",
              "       208367.07407821, 284592.87013535, 123243.85536053, 372891.19546773,\n",
              "       241943.08943881, 198065.28136307, 104949.05611964, 183070.26844576,\n",
              "       167508.1959022 , 303867.63750505, 112617.79403259, 243696.92330951,\n",
              "       321772.16706841, 212355.04725103, 209156.12513369, 117042.49285061,\n",
              "       115629.88314661, 179221.94437667, 276762.71509731,  81843.47260217,\n",
              "       292863.89732636, 201564.63883379, 220035.00107136, 181461.53734648,\n",
              "       -31318.23210021, 258232.63398474, 101379.68393087, 145710.65382693,\n",
              "       110155.43459613, 220054.9317342 , 236206.44625681, 153214.3348732 ,\n",
              "       283569.19705194, 124250.17772865, 251090.40268103, 143526.50824992,\n",
              "       284938.1179111 , 303522.58230035, 256838.01255535, 123922.65583904,\n",
              "       135309.70424517, 307127.20798594, 120382.4930463 , 133040.76412187,\n",
              "       163880.42802106, 132254.11624875, 183021.19407034,  87090.87227694,\n",
              "       187591.13415743, 256892.94256097, 239540.60406434, 209471.82017982,\n",
              "       156115.48325303, 304430.55997089, 104036.73553906, 117381.23482417,\n",
              "       179527.70261338, 175498.19643422, 111174.37335485, 447501.02302134,\n",
              "       249682.4503445 , 159902.52184148, 151917.90561705, 201562.01045071,\n",
              "       130644.8963762 ,  87606.05892694, 112076.60328009, 171559.85797284,\n",
              "       162269.30386227, 149332.32130513,  99044.25841763, 158261.07845686,\n",
              "       207150.00870969, 197987.06033196, 119904.05983176, 172425.87916065,\n",
              "       110562.6222385 , 116644.81674046, 126961.95594571, 131913.756979  ,\n",
              "       244658.54253261])"
            ]
          },
          "metadata": {},
          "execution_count": 147
        }
      ]
    },
    {
      "cell_type": "code",
      "metadata": {
        "colab": {
          "base_uri": "https://localhost:8080/"
        },
        "id": "o5BWkJmM81Zc",
        "outputId": "59ed6c3f-6132-4e74-8059-75e8e57a0c78"
      },
      "source": [
        "ytest"
      ],
      "execution_count": 148,
      "outputs": [
        {
          "output_type": "execute_result",
          "data": {
            "text/plain": [
              "994     337500\n",
              "1174    239000\n",
              "280     228500\n",
              "981     336000\n",
              "427     109008\n",
              "         ...  \n",
              "1450    136000\n",
              "1400    120000\n",
              "1077    138800\n",
              "786     139000\n",
              "792     269790\n",
              "Name: Sale_Price, Length: 365, dtype: int64"
            ]
          },
          "metadata": {},
          "execution_count": 148
        }
      ]
    },
    {
      "cell_type": "code",
      "metadata": {
        "colab": {
          "base_uri": "https://localhost:8080/",
          "height": 353
        },
        "id": "1GBdzMQ2-uB0",
        "outputId": "1f358b31-5c8c-44db-febb-7f531e146965"
      },
      "source": [
        "sns.scatterplot(ytest,ypred)"
      ],
      "execution_count": 149,
      "outputs": [
        {
          "output_type": "stream",
          "name": "stderr",
          "text": [
            "/usr/local/lib/python3.7/dist-packages/seaborn/_decorators.py:43: FutureWarning: Pass the following variables as keyword args: x, y. From version 0.12, the only valid positional argument will be `data`, and passing other arguments without an explicit keyword will result in an error or misinterpretation.\n",
            "  FutureWarning\n"
          ]
        },
        {
          "output_type": "execute_result",
          "data": {
            "text/plain": [
              "<matplotlib.axes._subplots.AxesSubplot at 0x7f386adf73d0>"
            ]
          },
          "metadata": {},
          "execution_count": 149
        },
        {
          "output_type": "display_data",
          "data": {
            "image/png": "[encoded data removed]",
            "text/plain": [
              "<Figure size 432x288 with 1 Axes>"
            ]
          },
          "metadata": {
            "needs_background": "light"
          }
        }
      ]
    },
    {
      "cell_type": "code",
      "metadata": {
        "colab": {
          "base_uri": "https://localhost:8080/",
          "height": 283
        },
        "id": "Ps8uV2uh_0mk",
        "outputId": "afb96175-8e6e-46da-9a6b-e00ce6f16571"
      },
      "source": [
        "import matplotlib.pyplot as plt\n",
        "plt.scatter(ytest,ypred)"
      ],
      "execution_count": 150,
      "outputs": [
        {
          "output_type": "execute_result",
          "data": {
            "text/plain": [
              "<matplotlib.collections.PathCollection at 0x7f386ad9aad0>"
            ]
          },
          "metadata": {},
          "execution_count": 150
        },
        {
          "output_type": "display_data",
          "data": {
            "image/png": "[encoded data removed]",
            "text/plain": [
              "<Figure size 432x288 with 1 Axes>"
            ]
          },
          "metadata": {
            "needs_background": "light"
          }
        }
      ]
    },
    {
      "cell_type": "code",
      "metadata": {
        "colab": {
          "base_uri": "https://localhost:8080/"
        },
        "id": "OJy6FlUm9HWE",
        "outputId": "8f331f21-7fbd-400b-8d4b-46644b16f683"
      },
      "source": [
        "Accuracy = sklearn.metrics.r2_score(ytest,ypred)\n",
        "print(Accuracy)"
      ],
      "execution_count": 151,
      "outputs": [
        {
          "output_type": "stream",
          "name": "stdout",
          "text": [
            "0.8425715569250666\n"
          ]
        }
      ]
    },
    {
      "cell_type": "code",
      "metadata": {
        "colab": {
          "base_uri": "https://localhost:8080/"
        },
        "id": "EWq-0eID-XGM",
        "outputId": "6d8a2ad6-3ff0-4416-8975-32989f259564"
      },
      "source": [
        "RMSE = sklearn.metrics.mean_squared_error(ytest,ypred)\n",
        "print(RMSE)"
      ],
      "execution_count": 152,
      "outputs": [
        {
          "output_type": "stream",
          "name": "stdout",
          "text": [
            "951485076.873502\n"
          ]
        }
      ]
    },
    {
      "cell_type": "markdown",
      "metadata": {
        "id": "bpeq-CNXAW-H"
      },
      "source": [
        "1st case 80/20 0.7961 and 1407546236.602066\n",
        " \n",
        "2nd case 85/15 0.6041 and 3074413715.1899123\n",
        "\n",
        "3rd case 75/25 0.8425 and 951485076.873502\n"
      ]
    },
    {
      "cell_type": "code",
      "metadata": {
        "id": "yPQ-Z1Dd-mHk"
      },
      "source": [
        ""
      ],
      "execution_count": 152,
      "outputs": []
    }
  ]
}