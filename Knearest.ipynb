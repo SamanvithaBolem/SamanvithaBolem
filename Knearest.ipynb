{
  "nbformat": 4,
  "nbformat_minor": 0,
  "metadata": {
    "colab": {
      "name": "Knearest.ipynb",
      "provenance": [],
      "authorship_tag": "ABX9TyPTVXfUaCxjVpPwMQbizKxs",
      "include_colab_link": true
    },
    "kernelspec": {
      "name": "python3",
      "display_name": "Python 3"
    },
    "language_info": {
      "name": "python"
    }
  },
  "cells": [
    {
      "cell_type": "markdown",
      "metadata": {
        "id": "view-in-github",
        "colab_type": "text"
      },
      "source": [
        "<a href=\"https://colab.research.google.com/github/SamanvithaBolem/SamanvithaBolem/blob/main/Knearest.ipynb\" target=\"_parent\"><img src=\"https://colab.research.google.com/assets/colab-badge.svg\" alt=\"Open In Colab\"/></a>"
      ]
    },
    {
      "cell_type": "code",
      "metadata": {
        "id": "aEoev9suSFVv"
      },
      "source": [
        "import pandas as pd\n",
        "import matplotlib.pyplot as plt\n",
        "import numpy as np\n",
        "import sklearn\n",
        "import seaborn as sns"
      ],
      "execution_count": 117,
      "outputs": []
    },
    {
      "cell_type": "code",
      "metadata": {
        "id": "P8Y9KroFYzhv"
      },
      "source": [
        "data = sns.load_dataset('iris')"
      ],
      "execution_count": 118,
      "outputs": []
    },
    {
      "cell_type": "code",
      "metadata": {
        "colab": {
          "base_uri": "https://localhost:8080/"
        },
        "id": "GJHnwNtESlhn",
        "outputId": "aa1145b8-b4a4-44a4-b666-bba415a470d4"
      },
      "source": [
        "print('Data Shape',data.shape)\n",
        "print('Data Info', data.info())\n",
        "print('Data Head', data.head())\n",
        "print(data.columns)"
      ],
      "execution_count": 119,
      "outputs": [
        {
          "output_type": "stream",
          "name": "stdout",
          "text": [
            "Data Shape (150, 5)\n",
            "<class 'pandas.core.frame.DataFrame'>\n",
            "RangeIndex: 150 entries, 0 to 149\n",
            "Data columns (total 5 columns):\n",
            " #   Column        Non-Null Count  Dtype  \n",
            "---  ------        --------------  -----  \n",
            " 0   sepal_length  150 non-null    float64\n",
            " 1   sepal_width   150 non-null    float64\n",
            " 2   petal_length  150 non-null    float64\n",
            " 3   petal_width   150 non-null    float64\n",
            " 4   species       150 non-null    object \n",
            "dtypes: float64(4), object(1)\n",
            "memory usage: 6.0+ KB\n",
            "Data Info None\n",
            "Data Head    sepal_length  sepal_width  petal_length  petal_width species\n",
            "0           5.1          3.5           1.4          0.2  setosa\n",
            "1           4.9          3.0           1.4          0.2  setosa\n",
            "2           4.7          3.2           1.3          0.2  setosa\n",
            "3           4.6          3.1           1.5          0.2  setosa\n",
            "4           5.0          3.6           1.4          0.2  setosa\n",
            "Index(['sepal_length', 'sepal_width', 'petal_length', 'petal_width',\n",
            "       'species'],\n",
            "      dtype='object')\n"
          ]
        }
      ]
    },
    {
      "cell_type": "code",
      "metadata": {
        "colab": {
          "base_uri": "https://localhost:8080/"
        },
        "id": "tRIm0e5UTC7f",
        "outputId": "b9f013ed-7969-48c6-b1b6-cba83a6c3f7d"
      },
      "source": [
        "data.columns"
      ],
      "execution_count": 120,
      "outputs": [
        {
          "output_type": "execute_result",
          "data": {
            "text/plain": [
              "Index(['sepal_length', 'sepal_width', 'petal_length', 'petal_width',\n",
              "       'species'],\n",
              "      dtype='object')"
            ]
          },
          "metadata": {},
          "execution_count": 120
        }
      ]
    },
    {
      "cell_type": "code",
      "metadata": {
        "id": "upz4pUSpTH12"
      },
      "source": [
        "X = data.loc[:,['sepal_length','sepal_width', 'petal_length', 'petal_width']]\n",
        "\n",
        "Y = data.loc[:,'species']"
      ],
      "execution_count": 121,
      "outputs": []
    },
    {
      "cell_type": "code",
      "metadata": {
        "colab": {
          "base_uri": "https://localhost:8080/"
        },
        "id": "mHGAbTkmTraN",
        "outputId": "a19dde0a-0104-43b5-d0b9-e493643e83eb"
      },
      "source": [
        "X.shape"
      ],
      "execution_count": 122,
      "outputs": [
        {
          "output_type": "execute_result",
          "data": {
            "text/plain": [
              "(150, 4)"
            ]
          },
          "metadata": {},
          "execution_count": 122
        }
      ]
    },
    {
      "cell_type": "code",
      "metadata": {
        "colab": {
          "base_uri": "https://localhost:8080/"
        },
        "id": "pmtffknHTtsd",
        "outputId": "01bd941b-a60e-4d9a-8b2e-401367660aaa"
      },
      "source": [
        "Y.shape"
      ],
      "execution_count": 123,
      "outputs": [
        {
          "output_type": "execute_result",
          "data": {
            "text/plain": [
              "(150,)"
            ]
          },
          "metadata": {},
          "execution_count": 123
        }
      ]
    },
    {
      "cell_type": "code",
      "metadata": {
        "id": "6JD1OpoFTuxf"
      },
      "source": [
        "from sklearn.model_selection import train_test_split"
      ],
      "execution_count": 124,
      "outputs": []
    },
    {
      "cell_type": "code",
      "metadata": {
        "id": "tUD2KfcpT3Ze"
      },
      "source": [
        "Xtrain, Xtest, Ytrain, Ytest = train_test_split(X,\n",
        "                                                Y,\n",
        "                                                train_size=0.90,\n",
        "                                                test_size=0.10)"
      ],
      "execution_count": 125,
      "outputs": []
    },
    {
      "cell_type": "code",
      "metadata": {
        "colab": {
          "base_uri": "https://localhost:8080/"
        },
        "id": "j6SPyppNUEoX",
        "outputId": "4983afc0-1ea4-4880-ef00-d221094861fa"
      },
      "source": [
        "print(Xtrain.shape)\n",
        "print(Xtest.shape)\n",
        "print(Ytrain.shape)\n",
        "print(Ytest.shape)"
      ],
      "execution_count": 126,
      "outputs": [
        {
          "output_type": "stream",
          "name": "stdout",
          "text": [
            "(135, 4)\n",
            "(15, 4)\n",
            "(135,)\n",
            "(15,)\n"
          ]
        }
      ]
    },
    {
      "cell_type": "code",
      "metadata": {
        "id": "o-hWq9NbUNQV"
      },
      "source": [
        "from sklearn.neighbors import KNeighborsClassifier\n"
      ],
      "execution_count": 127,
      "outputs": []
    },
    {
      "cell_type": "code",
      "metadata": {
        "id": "G9PmW3mFUbPt"
      },
      "source": [
        "model = KNeighborsClassifier(n_neighbors=5)"
      ],
      "execution_count": 128,
      "outputs": []
    },
    {
      "cell_type": "code",
      "metadata": {
        "colab": {
          "base_uri": "https://localhost:8080/"
        },
        "id": "vNy687IvUiVE",
        "outputId": "4253b0e2-dcc4-4fd0-e343-aed421f9a273"
      },
      "source": [
        "model.fit(Xtrain,Ytrain)"
      ],
      "execution_count": 129,
      "outputs": [
        {
          "output_type": "execute_result",
          "data": {
            "text/plain": [
              "KNeighborsClassifier(algorithm='auto', leaf_size=30, metric='minkowski',\n",
              "                     metric_params=None, n_jobs=None, n_neighbors=5, p=2,\n",
              "                     weights='uniform')"
            ]
          },
          "metadata": {},
          "execution_count": 129
        }
      ]
    },
    {
      "cell_type": "code",
      "metadata": {
        "id": "8aMB8TfMUl7l"
      },
      "source": [
        "Ypred = model.predict(Xtest)"
      ],
      "execution_count": 130,
      "outputs": []
    },
    {
      "cell_type": "code",
      "metadata": {
        "colab": {
          "base_uri": "https://localhost:8080/"
        },
        "id": "9lMhcLavUsyl",
        "outputId": "07d75606-00c7-4018-ef00-3baa605f1bba"
      },
      "source": [
        "Ypred"
      ],
      "execution_count": 131,
      "outputs": [
        {
          "output_type": "execute_result",
          "data": {
            "text/plain": [
              "array(['versicolor', 'virginica', 'virginica', 'virginica', 'setosa',\n",
              "       'setosa', 'setosa', 'versicolor', 'setosa', 'versicolor',\n",
              "       'versicolor', 'setosa', 'versicolor', 'versicolor', 'virginica'],\n",
              "      dtype=object)"
            ]
          },
          "metadata": {},
          "execution_count": 131
        }
      ]
    },
    {
      "cell_type": "code",
      "metadata": {
        "colab": {
          "base_uri": "https://localhost:8080/"
        },
        "id": "jr222NqNVL-O",
        "outputId": "1847b3bf-8564-43d9-af34-c4d4962fee9f"
      },
      "source": [
        "Ytest"
      ],
      "execution_count": 132,
      "outputs": [
        {
          "output_type": "execute_result",
          "data": {
            "text/plain": [
              "99     versicolor\n",
              "128     virginica\n",
              "146     virginica\n",
              "127     virginica\n",
              "14         setosa\n",
              "17         setosa\n",
              "23         setosa\n",
              "79     versicolor\n",
              "35         setosa\n",
              "77     versicolor\n",
              "96     versicolor\n",
              "40         setosa\n",
              "57     versicolor\n",
              "67     versicolor\n",
              "114     virginica\n",
              "Name: species, dtype: object"
            ]
          },
          "metadata": {},
          "execution_count": 132
        }
      ]
    },
    {
      "cell_type": "code",
      "metadata": {
        "id": "vWo6t0B6VW1s"
      },
      "source": [
        "from sklearn.metrics import classification_report\n",
        "\n",
        "from sklearn.metrics import confusion_matrix\n",
        "\n",
        "from sklearn.metrics import accuracy_score"
      ],
      "execution_count": 133,
      "outputs": []
    },
    {
      "cell_type": "code",
      "metadata": {
        "colab": {
          "base_uri": "https://localhost:8080/"
        },
        "id": "22V0b76BVa4c",
        "outputId": "be2ed554-b2c2-4663-ff0d-5a3388ded841"
      },
      "source": [
        "print(sklearn.metrics.accuracy_score(Ytest,Ypred))"
      ],
      "execution_count": 134,
      "outputs": [
        {
          "output_type": "stream",
          "name": "stdout",
          "text": [
            "1.0\n"
          ]
        }
      ]
    },
    {
      "cell_type": "code",
      "metadata": {
        "colab": {
          "base_uri": "https://localhost:8080/"
        },
        "id": "5yl58XLLVjRF",
        "outputId": "5b8ab44f-5d56-496a-fc5c-1ada45322474"
      },
      "source": [
        "print(sklearn.metrics.confusion_matrix(Ytest,Ypred))"
      ],
      "execution_count": 135,
      "outputs": [
        {
          "output_type": "stream",
          "name": "stdout",
          "text": [
            "[[5 0 0]\n",
            " [0 6 0]\n",
            " [0 0 4]]\n"
          ]
        }
      ]
    },
    {
      "cell_type": "code",
      "metadata": {
        "colab": {
          "base_uri": "https://localhost:8080/"
        },
        "id": "XjpeerYyVuJU",
        "outputId": "a88c3153-7cca-47be-b7f9-4c9d6418f36d"
      },
      "source": [
        "print(sklearn.metrics.classification_report(Ytest,Ypred))"
      ],
      "execution_count": 136,
      "outputs": [
        {
          "output_type": "stream",
          "name": "stdout",
          "text": [
            "              precision    recall  f1-score   support\n",
            "\n",
            "      setosa       1.00      1.00      1.00         5\n",
            "  versicolor       1.00      1.00      1.00         6\n",
            "   virginica       1.00      1.00      1.00         4\n",
            "\n",
            "    accuracy                           1.00        15\n",
            "   macro avg       1.00      1.00      1.00        15\n",
            "weighted avg       1.00      1.00      1.00        15\n",
            "\n"
          ]
        }
      ]
    },
    {
      "cell_type": "markdown",
      "metadata": {
        "id": "itms6ZwlcHHP"
      },
      "source": [
        "1. 70/30 96% acc \n",
        "2. 80/20 96.7% acc\n",
        "3. 85/15 91.4% acc\n",
        "4. 90/10 100%acc\n"
      ]
    },
    {
      "cell_type": "code",
      "metadata": {
        "id": "iX8S3GYZeHby"
      },
      "source": [
        ""
      ],
      "execution_count": null,
      "outputs": []
    }
  ]
}