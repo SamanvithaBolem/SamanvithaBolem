{
  "nbformat": 4,
  "nbformat_minor": 0,
  "metadata": {
    "colab": {
      "name": "spell_check.ipynb",
      "provenance": [],
      "collapsed_sections": [],
      "authorship_tag": "ABX9TyP9rer6mZ+eV3MsZKc6xmwA",
      "include_colab_link": true
    },
    "kernelspec": {
      "name": "python3",
      "display_name": "Python 3"
    },
    "language_info": {
      "name": "python"
    }
  },
  "cells": [
    {
      "cell_type": "markdown",
      "metadata": {
        "id": "view-in-github",
        "colab_type": "text"
      },
      "source": [
        "<a href=\"https://colab.research.google.com/github/SamanvithaBolem/SamanvithaBolem/blob/main/spell_check.ipynb\" target=\"_parent\"><img src=\"https://colab.research.google.com/assets/colab-badge.svg\" alt=\"Open In Colab\"/></a>"
      ]
    },
    {
      "cell_type": "code",
      "metadata": {
        "id": "UejIfC29lCn8"
      },
      "source": [
        "from textblob import TextBlob"
      ],
      "execution_count": 1,
      "outputs": []
    },
    {
      "cell_type": "code",
      "metadata": {
        "id": "IpaFCbHVlIG5"
      },
      "source": [
        "words = [\"Data Scence\", \"Mahine Learnin\"]\n",
        "corrected_words = []\n",
        "for i in words:\n",
        "    corrected_words.append(TextBlob(i))"
      ],
      "execution_count": 4,
      "outputs": []
    },
    {
      "cell_type": "code",
      "metadata": {
        "colab": {
          "base_uri": "https://localhost:8080/"
        },
        "id": "djGBWn2ZlToA",
        "outputId": "272c4f6d-d344-4fe4-ad68-8dd1180df590"
      },
      "source": [
        "print(\"Wrong words:\", words)\n",
        "print(\"Corrected Words are:\")\n",
        "for i in corrected_words:\n",
        "    print(i.correct(), end=\" \")"
      ],
      "execution_count": 5,
      "outputs": [
        {
          "output_type": "stream",
          "name": "stdout",
          "text": [
            "Wrong words: ['Data Scence', 'Mahine Learnin']\n",
            "Corrected Words are:\n",
            "Data Science Machine Learning "
          ]
        }
      ]
    },
    {
      "cell_type": "code",
      "metadata": {
        "id": "LBTqQ10rmArf"
      },
      "source": [
        ""
      ],
      "execution_count": null,
      "outputs": []
    }
  ]
}