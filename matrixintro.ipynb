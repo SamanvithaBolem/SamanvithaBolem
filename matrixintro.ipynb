{
  "nbformat": 4,
  "nbformat_minor": 0,
  "metadata": {
    "colab": {
      "name": "Untitled12.ipynb",
      "provenance": [],
      "authorship_tag": "ABX9TyPLh9FL8OWTy6EaVAL5cDeJ",
      "include_colab_link": true
    },
    "kernelspec": {
      "name": "python3",
      "display_name": "Python 3"
    },
    "language_info": {
      "name": "python"
    }
  },
  "cells": [
    {
      "cell_type": "markdown",
      "metadata": {
        "id": "view-in-github",
        "colab_type": "text"
      },
      "source": [
        "<a href=\"https://colab.research.google.com/github/SamanvithaBolem/SamanvithaBolem/blob/main/matrixintro.ipynb\" target=\"_parent\"><img src=\"https://colab.research.google.com/assets/colab-badge.svg\" alt=\"Open In Colab\"/></a>"
      ]
    },
    {
      "cell_type": "code",
      "metadata": {
        "id": "4zMdJ0xGRkIy"
      },
      "source": [
        "import pandas as pd\n",
        "import numpy as np\n",
        "import matplotlib.pyplot as plt\n",
        "import seaborn as sns\n",
        "import sklearn\n",
        "\n",
        "data = pd.read_csv('/content/BankCreditCard.csv')"
      ],
      "execution_count": 1,
      "outputs": []
    },
    {
      "cell_type": "code",
      "metadata": {
        "colab": {
          "base_uri": "https://localhost:8080/",
          "height": 240
        },
        "id": "xwF59QaiSC_2",
        "outputId": "c0e1b2fa-51d9-43e9-8a0e-5aae5b54c512"
      },
      "source": [
        "data.head()"
      ],
      "execution_count": 3,
      "outputs": [
        {
          "output_type": "execute_result",
          "data": {
            "text/html": [
              "<div>\n",
              "<style scoped>\n",
              "    .dataframe tbody tr th:only-of-type {\n",
              "        vertical-align: middle;\n",
              "    }\n",
              "\n",
              "    .dataframe tbody tr th {\n",
              "        vertical-align: top;\n",
              "    }\n",
              "\n",
              "    .dataframe thead th {\n",
              "        text-align: right;\n",
              "    }\n",
              "</style>\n",
              "<table border=\"1\" class=\"dataframe\">\n",
              "  <thead>\n",
              "    <tr style=\"text-align: right;\">\n",
              "      <th></th>\n",
              "      <th>Customer ID</th>\n",
              "      <th>Credit_Amount</th>\n",
              "      <th>Gender</th>\n",
              "      <th>Academic_Qualification</th>\n",
              "      <th>Marital</th>\n",
              "      <th>Age_Years</th>\n",
              "      <th>Repayment_Status_Jan</th>\n",
              "      <th>Repayment_Status_Feb</th>\n",
              "      <th>Repayment_Status_March</th>\n",
              "      <th>Repayment_Status_April</th>\n",
              "      <th>Repayment_Status_May</th>\n",
              "      <th>Repayment_Status_June</th>\n",
              "      <th>Jan_Bill_Amount</th>\n",
              "      <th>Feb_Bill_Amount</th>\n",
              "      <th>March_Bill_Amount</th>\n",
              "      <th>April_Bill_Amount</th>\n",
              "      <th>May_Bill_Amount</th>\n",
              "      <th>June_Bill_Amount</th>\n",
              "      <th>Previous_Payment_Jan</th>\n",
              "      <th>Previous_Payment_Feb</th>\n",
              "      <th>Previous_Payment_March</th>\n",
              "      <th>Previous_Payment_April</th>\n",
              "      <th>Previous_Payment_May</th>\n",
              "      <th>Previous_Payment_June</th>\n",
              "      <th>Default_Payment</th>\n",
              "    </tr>\n",
              "  </thead>\n",
              "  <tbody>\n",
              "    <tr>\n",
              "      <th>0</th>\n",
              "      <td>1</td>\n",
              "      <td>20000.0</td>\n",
              "      <td>2</td>\n",
              "      <td>2</td>\n",
              "      <td>1</td>\n",
              "      <td>24</td>\n",
              "      <td>2</td>\n",
              "      <td>2</td>\n",
              "      <td>0</td>\n",
              "      <td>0</td>\n",
              "      <td>0</td>\n",
              "      <td>0</td>\n",
              "      <td>3933.0</td>\n",
              "      <td>3103.0</td>\n",
              "      <td>689.0</td>\n",
              "      <td>0.0</td>\n",
              "      <td>0.0</td>\n",
              "      <td>0.0</td>\n",
              "      <td>0.0</td>\n",
              "      <td>679.0</td>\n",
              "      <td>0.0</td>\n",
              "      <td>0.0</td>\n",
              "      <td>0.0</td>\n",
              "      <td>0.0</td>\n",
              "      <td>1</td>\n",
              "    </tr>\n",
              "    <tr>\n",
              "      <th>1</th>\n",
              "      <td>2</td>\n",
              "      <td>220000.0</td>\n",
              "      <td>2</td>\n",
              "      <td>2</td>\n",
              "      <td>2</td>\n",
              "      <td>26</td>\n",
              "      <td>0</td>\n",
              "      <td>2</td>\n",
              "      <td>0</td>\n",
              "      <td>0</td>\n",
              "      <td>0</td>\n",
              "      <td>2</td>\n",
              "      <td>3683.0</td>\n",
              "      <td>1735.0</td>\n",
              "      <td>2682.0</td>\n",
              "      <td>3272.0</td>\n",
              "      <td>3455.0</td>\n",
              "      <td>3261.0</td>\n",
              "      <td>0.0</td>\n",
              "      <td>2000.0</td>\n",
              "      <td>1000.0</td>\n",
              "      <td>1000.0</td>\n",
              "      <td>0.0</td>\n",
              "      <td>2000.0</td>\n",
              "      <td>1</td>\n",
              "    </tr>\n",
              "    <tr>\n",
              "      <th>2</th>\n",
              "      <td>3</td>\n",
              "      <td>90000.0</td>\n",
              "      <td>2</td>\n",
              "      <td>2</td>\n",
              "      <td>2</td>\n",
              "      <td>34</td>\n",
              "      <td>0</td>\n",
              "      <td>0</td>\n",
              "      <td>0</td>\n",
              "      <td>0</td>\n",
              "      <td>0</td>\n",
              "      <td>0</td>\n",
              "      <td>39339.0</td>\n",
              "      <td>14037.0</td>\n",
              "      <td>23559.0</td>\n",
              "      <td>24332.0</td>\n",
              "      <td>14848.0</td>\n",
              "      <td>15548.0</td>\n",
              "      <td>1619.0</td>\n",
              "      <td>2500.0</td>\n",
              "      <td>1000.0</td>\n",
              "      <td>1000.0</td>\n",
              "      <td>1000.0</td>\n",
              "      <td>5000.0</td>\n",
              "      <td>0</td>\n",
              "    </tr>\n",
              "    <tr>\n",
              "      <th>3</th>\n",
              "      <td>4</td>\n",
              "      <td>50000.0</td>\n",
              "      <td>2</td>\n",
              "      <td>2</td>\n",
              "      <td>1</td>\n",
              "      <td>37</td>\n",
              "      <td>0</td>\n",
              "      <td>0</td>\n",
              "      <td>0</td>\n",
              "      <td>0</td>\n",
              "      <td>0</td>\n",
              "      <td>0</td>\n",
              "      <td>46990.0</td>\n",
              "      <td>48333.0</td>\n",
              "      <td>49292.0</td>\n",
              "      <td>29324.0</td>\n",
              "      <td>28858.0</td>\n",
              "      <td>28547.0</td>\n",
              "      <td>3000.0</td>\n",
              "      <td>2029.0</td>\n",
              "      <td>1200.0</td>\n",
              "      <td>1100.0</td>\n",
              "      <td>1069.0</td>\n",
              "      <td>1000.0</td>\n",
              "      <td>0</td>\n",
              "    </tr>\n",
              "    <tr>\n",
              "      <th>4</th>\n",
              "      <td>5</td>\n",
              "      <td>50000.0</td>\n",
              "      <td>1</td>\n",
              "      <td>2</td>\n",
              "      <td>1</td>\n",
              "      <td>57</td>\n",
              "      <td>0</td>\n",
              "      <td>0</td>\n",
              "      <td>0</td>\n",
              "      <td>0</td>\n",
              "      <td>0</td>\n",
              "      <td>0</td>\n",
              "      <td>8637.0</td>\n",
              "      <td>5570.0</td>\n",
              "      <td>35835.0</td>\n",
              "      <td>20940.0</td>\n",
              "      <td>18146.0</td>\n",
              "      <td>18131.0</td>\n",
              "      <td>3000.0</td>\n",
              "      <td>36672.0</td>\n",
              "      <td>10000.0</td>\n",
              "      <td>9000.0</td>\n",
              "      <td>689.0</td>\n",
              "      <td>679.0</td>\n",
              "      <td>0</td>\n",
              "    </tr>\n",
              "  </tbody>\n",
              "</table>\n",
              "</div>"
            ],
            "text/plain": [
              "   Customer ID  Credit_Amount  ...  Previous_Payment_June  Default_Payment\n",
              "0            1        20000.0  ...                    0.0                1\n",
              "1            2       220000.0  ...                 2000.0                1\n",
              "2            3        90000.0  ...                 5000.0                0\n",
              "3            4        50000.0  ...                 1000.0                0\n",
              "4            5        50000.0  ...                  679.0                0\n",
              "\n",
              "[5 rows x 25 columns]"
            ]
          },
          "metadata": {},
          "execution_count": 3
        }
      ]
    },
    {
      "cell_type": "code",
      "metadata": {
        "colab": {
          "base_uri": "https://localhost:8080/"
        },
        "id": "obnRmismSHsE",
        "outputId": "c5158edb-d741-4649-dcb9-f2084ec485f9"
      },
      "source": [
        "data.shape\n",
        "data.info()"
      ],
      "execution_count": 11,
      "outputs": [
        {
          "output_type": "stream",
          "name": "stdout",
          "text": [
            "<class 'pandas.core.frame.DataFrame'>\n",
            "RangeIndex: 30000 entries, 0 to 29999\n",
            "Data columns (total 24 columns):\n",
            " #   Column                  Non-Null Count  Dtype  \n",
            "---  ------                  --------------  -----  \n",
            " 0   Credit_Amount           30000 non-null  float64\n",
            " 1   Gender                  30000 non-null  int64  \n",
            " 2   Academic_Qualification  30000 non-null  int64  \n",
            " 3   Marital                 30000 non-null  int64  \n",
            " 4   Age_Years               30000 non-null  int64  \n",
            " 5   Repayment_Status_Jan    30000 non-null  int64  \n",
            " 6   Repayment_Status_Feb    30000 non-null  int64  \n",
            " 7   Repayment_Status_March  30000 non-null  int64  \n",
            " 8   Repayment_Status_April  30000 non-null  int64  \n",
            " 9   Repayment_Status_May    30000 non-null  int64  \n",
            " 10  Repayment_Status_June   30000 non-null  int64  \n",
            " 11  Jan_Bill_Amount         30000 non-null  float64\n",
            " 12  Feb_Bill_Amount         30000 non-null  float64\n",
            " 13  March_Bill_Amount       30000 non-null  float64\n",
            " 14  April_Bill_Amount       30000 non-null  float64\n",
            " 15  May_Bill_Amount         30000 non-null  float64\n",
            " 16  June_Bill_Amount        30000 non-null  float64\n",
            " 17  Previous_Payment_Jan    30000 non-null  float64\n",
            " 18  Previous_Payment_Feb    30000 non-null  float64\n",
            " 19  Previous_Payment_March  30000 non-null  float64\n",
            " 20  Previous_Payment_April  30000 non-null  float64\n",
            " 21  Previous_Payment_May    30000 non-null  float64\n",
            " 22  Previous_Payment_June   30000 non-null  float64\n",
            " 23  Default_Payment         30000 non-null  int64  \n",
            "dtypes: float64(13), int64(11)\n",
            "memory usage: 5.5 MB\n"
          ]
        }
      ]
    },
    {
      "cell_type": "code",
      "metadata": {
        "id": "UGTnh7LPSWR0"
      },
      "source": [
        "data = data.drop(columns=['Customer ID'])"
      ],
      "execution_count": 6,
      "outputs": []
    },
    {
      "cell_type": "code",
      "metadata": {
        "colab": {
          "base_uri": "https://localhost:8080/",
          "height": 224
        },
        "id": "iW-YRZATSfH0",
        "outputId": "a96103ea-189f-4493-ae97-1312027957f4"
      },
      "source": [
        "data.head()"
      ],
      "execution_count": 7,
      "outputs": [
        {
          "output_type": "execute_result",
          "data": {
            "text/html": [
              "<div>\n",
              "<style scoped>\n",
              "    .dataframe tbody tr th:only-of-type {\n",
              "        vertical-align: middle;\n",
              "    }\n",
              "\n",
              "    .dataframe tbody tr th {\n",
              "        vertical-align: top;\n",
              "    }\n",
              "\n",
              "    .dataframe thead th {\n",
              "        text-align: right;\n",
              "    }\n",
              "</style>\n",
              "<table border=\"1\" class=\"dataframe\">\n",
              "  <thead>\n",
              "    <tr style=\"text-align: right;\">\n",
              "      <th></th>\n",
              "      <th>Credit_Amount</th>\n",
              "      <th>Gender</th>\n",
              "      <th>Academic_Qualification</th>\n",
              "      <th>Marital</th>\n",
              "      <th>Age_Years</th>\n",
              "      <th>Repayment_Status_Jan</th>\n",
              "      <th>Repayment_Status_Feb</th>\n",
              "      <th>Repayment_Status_March</th>\n",
              "      <th>Repayment_Status_April</th>\n",
              "      <th>Repayment_Status_May</th>\n",
              "      <th>Repayment_Status_June</th>\n",
              "      <th>Jan_Bill_Amount</th>\n",
              "      <th>Feb_Bill_Amount</th>\n",
              "      <th>March_Bill_Amount</th>\n",
              "      <th>April_Bill_Amount</th>\n",
              "      <th>May_Bill_Amount</th>\n",
              "      <th>June_Bill_Amount</th>\n",
              "      <th>Previous_Payment_Jan</th>\n",
              "      <th>Previous_Payment_Feb</th>\n",
              "      <th>Previous_Payment_March</th>\n",
              "      <th>Previous_Payment_April</th>\n",
              "      <th>Previous_Payment_May</th>\n",
              "      <th>Previous_Payment_June</th>\n",
              "      <th>Default_Payment</th>\n",
              "    </tr>\n",
              "  </thead>\n",
              "  <tbody>\n",
              "    <tr>\n",
              "      <th>0</th>\n",
              "      <td>20000.0</td>\n",
              "      <td>2</td>\n",
              "      <td>2</td>\n",
              "      <td>1</td>\n",
              "      <td>24</td>\n",
              "      <td>2</td>\n",
              "      <td>2</td>\n",
              "      <td>0</td>\n",
              "      <td>0</td>\n",
              "      <td>0</td>\n",
              "      <td>0</td>\n",
              "      <td>3933.0</td>\n",
              "      <td>3103.0</td>\n",
              "      <td>689.0</td>\n",
              "      <td>0.0</td>\n",
              "      <td>0.0</td>\n",
              "      <td>0.0</td>\n",
              "      <td>0.0</td>\n",
              "      <td>679.0</td>\n",
              "      <td>0.0</td>\n",
              "      <td>0.0</td>\n",
              "      <td>0.0</td>\n",
              "      <td>0.0</td>\n",
              "      <td>1</td>\n",
              "    </tr>\n",
              "    <tr>\n",
              "      <th>1</th>\n",
              "      <td>220000.0</td>\n",
              "      <td>2</td>\n",
              "      <td>2</td>\n",
              "      <td>2</td>\n",
              "      <td>26</td>\n",
              "      <td>0</td>\n",
              "      <td>2</td>\n",
              "      <td>0</td>\n",
              "      <td>0</td>\n",
              "      <td>0</td>\n",
              "      <td>2</td>\n",
              "      <td>3683.0</td>\n",
              "      <td>1735.0</td>\n",
              "      <td>2682.0</td>\n",
              "      <td>3272.0</td>\n",
              "      <td>3455.0</td>\n",
              "      <td>3261.0</td>\n",
              "      <td>0.0</td>\n",
              "      <td>2000.0</td>\n",
              "      <td>1000.0</td>\n",
              "      <td>1000.0</td>\n",
              "      <td>0.0</td>\n",
              "      <td>2000.0</td>\n",
              "      <td>1</td>\n",
              "    </tr>\n",
              "    <tr>\n",
              "      <th>2</th>\n",
              "      <td>90000.0</td>\n",
              "      <td>2</td>\n",
              "      <td>2</td>\n",
              "      <td>2</td>\n",
              "      <td>34</td>\n",
              "      <td>0</td>\n",
              "      <td>0</td>\n",
              "      <td>0</td>\n",
              "      <td>0</td>\n",
              "      <td>0</td>\n",
              "      <td>0</td>\n",
              "      <td>39339.0</td>\n",
              "      <td>14037.0</td>\n",
              "      <td>23559.0</td>\n",
              "      <td>24332.0</td>\n",
              "      <td>14848.0</td>\n",
              "      <td>15548.0</td>\n",
              "      <td>1619.0</td>\n",
              "      <td>2500.0</td>\n",
              "      <td>1000.0</td>\n",
              "      <td>1000.0</td>\n",
              "      <td>1000.0</td>\n",
              "      <td>5000.0</td>\n",
              "      <td>0</td>\n",
              "    </tr>\n",
              "    <tr>\n",
              "      <th>3</th>\n",
              "      <td>50000.0</td>\n",
              "      <td>2</td>\n",
              "      <td>2</td>\n",
              "      <td>1</td>\n",
              "      <td>37</td>\n",
              "      <td>0</td>\n",
              "      <td>0</td>\n",
              "      <td>0</td>\n",
              "      <td>0</td>\n",
              "      <td>0</td>\n",
              "      <td>0</td>\n",
              "      <td>46990.0</td>\n",
              "      <td>48333.0</td>\n",
              "      <td>49292.0</td>\n",
              "      <td>29324.0</td>\n",
              "      <td>28858.0</td>\n",
              "      <td>28547.0</td>\n",
              "      <td>3000.0</td>\n",
              "      <td>2029.0</td>\n",
              "      <td>1200.0</td>\n",
              "      <td>1100.0</td>\n",
              "      <td>1069.0</td>\n",
              "      <td>1000.0</td>\n",
              "      <td>0</td>\n",
              "    </tr>\n",
              "    <tr>\n",
              "      <th>4</th>\n",
              "      <td>50000.0</td>\n",
              "      <td>1</td>\n",
              "      <td>2</td>\n",
              "      <td>1</td>\n",
              "      <td>57</td>\n",
              "      <td>0</td>\n",
              "      <td>0</td>\n",
              "      <td>0</td>\n",
              "      <td>0</td>\n",
              "      <td>0</td>\n",
              "      <td>0</td>\n",
              "      <td>8637.0</td>\n",
              "      <td>5570.0</td>\n",
              "      <td>35835.0</td>\n",
              "      <td>20940.0</td>\n",
              "      <td>18146.0</td>\n",
              "      <td>18131.0</td>\n",
              "      <td>3000.0</td>\n",
              "      <td>36672.0</td>\n",
              "      <td>10000.0</td>\n",
              "      <td>9000.0</td>\n",
              "      <td>689.0</td>\n",
              "      <td>679.0</td>\n",
              "      <td>0</td>\n",
              "    </tr>\n",
              "  </tbody>\n",
              "</table>\n",
              "</div>"
            ],
            "text/plain": [
              "   Credit_Amount  Gender  ...  Previous_Payment_June  Default_Payment\n",
              "0        20000.0       2  ...                    0.0                1\n",
              "1       220000.0       2  ...                 2000.0                1\n",
              "2        90000.0       2  ...                 5000.0                0\n",
              "3        50000.0       2  ...                 1000.0                0\n",
              "4        50000.0       1  ...                  679.0                0\n",
              "\n",
              "[5 rows x 24 columns]"
            ]
          },
          "metadata": {},
          "execution_count": 7
        }
      ]
    },
    {
      "cell_type": "code",
      "metadata": {
        "colab": {
          "base_uri": "https://localhost:8080/"
        },
        "id": "TRxIOoWXSkh8",
        "outputId": "ea7301f9-a8f5-49d1-b647-4ce00f1ba3f9"
      },
      "source": [
        "data.columns"
      ],
      "execution_count": 12,
      "outputs": [
        {
          "output_type": "execute_result",
          "data": {
            "text/plain": [
              "Index(['Credit_Amount', 'Gender', 'Academic_Qualification', 'Marital',\n",
              "       'Age_Years', 'Repayment_Status_Jan', 'Repayment_Status_Feb',\n",
              "       'Repayment_Status_March', 'Repayment_Status_April',\n",
              "       'Repayment_Status_May', 'Repayment_Status_June', 'Jan_Bill_Amount',\n",
              "       'Feb_Bill_Amount', 'March_Bill_Amount', 'April_Bill_Amount',\n",
              "       'May_Bill_Amount', 'June_Bill_Amount', 'Previous_Payment_Jan',\n",
              "       'Previous_Payment_Feb', 'Previous_Payment_March',\n",
              "       'Previous_Payment_April', 'Previous_Payment_May',\n",
              "       'Previous_Payment_June', 'Default_Payment'],\n",
              "      dtype='object')"
            ]
          },
          "metadata": {},
          "execution_count": 12
        }
      ]
    },
    {
      "cell_type": "code",
      "metadata": {
        "id": "k6oPGVyVS9hd"
      },
      "source": [
        "X = data.loc[:,['Credit_Amount', 'Gender', 'Academic_Qualification', 'Marital',\n",
        "             'Age_Years', 'Repayment_Status_Jan', 'Repayment_Status_Feb',\n",
        "             'Repayment_Status_March', 'Repayment_Status_April',\n",
        "             'Repayment_Status_May', 'Repayment_Status_June', 'Jan_Bill_Amount',\n",
        "             'Feb_Bill_Amount', 'March_Bill_Amount', 'April_Bill_Amount',\n",
        "             'May_Bill_Amount', 'June_Bill_Amount', 'Previous_Payment_Jan',\n",
        "             'Previous_Payment_Feb', 'Previous_Payment_March',\n",
        "             'Previous_Payment_April', 'Previous_Payment_May']]\n",
        "      \n",
        "Y = data.loc[:,'Default_Payment']      "
      ],
      "execution_count": 16,
      "outputs": []
    },
    {
      "cell_type": "code",
      "metadata": {
        "id": "Y3DVN6aoTPmU"
      },
      "source": [
        "from sklearn.model_selection import train_test_split\n",
        "\n",
        "Xtrain,Xtest, Ytrain, Ytest = train_test_split(X,Y, test_size=0.2)"
      ],
      "execution_count": 18,
      "outputs": []
    },
    {
      "cell_type": "code",
      "metadata": {
        "colab": {
          "base_uri": "https://localhost:8080/"
        },
        "id": "J9rbm6RIT6zU",
        "outputId": "3619f08a-4d72-4600-d0ea-b49b127bb2ea"
      },
      "source": [
        "Xtrain.shape"
      ],
      "execution_count": 19,
      "outputs": [
        {
          "output_type": "execute_result",
          "data": {
            "text/plain": [
              "(24000, 22)"
            ]
          },
          "metadata": {},
          "execution_count": 19
        }
      ]
    },
    {
      "cell_type": "code",
      "metadata": {
        "colab": {
          "base_uri": "https://localhost:8080/"
        },
        "id": "k4X5O0OdUDQk",
        "outputId": "c479a9a1-56fb-4fc1-82f9-5a5a16f4b7a7"
      },
      "source": [
        "Xtest.shape"
      ],
      "execution_count": 20,
      "outputs": [
        {
          "output_type": "execute_result",
          "data": {
            "text/plain": [
              "(6000, 22)"
            ]
          },
          "metadata": {},
          "execution_count": 20
        }
      ]
    },
    {
      "cell_type": "code",
      "metadata": {
        "colab": {
          "base_uri": "https://localhost:8080/"
        },
        "id": "6hB0b_wkUE2r",
        "outputId": "72af53fd-4852-48c6-e104-cea06e01c1af"
      },
      "source": [
        "Ytrain.shape"
      ],
      "execution_count": 21,
      "outputs": [
        {
          "output_type": "execute_result",
          "data": {
            "text/plain": [
              "(24000,)"
            ]
          },
          "metadata": {},
          "execution_count": 21
        }
      ]
    },
    {
      "cell_type": "code",
      "metadata": {
        "colab": {
          "base_uri": "https://localhost:8080/"
        },
        "id": "mwLKU2KnUHDl",
        "outputId": "179727c7-f2e0-4eec-b21b-255f4add68a8"
      },
      "source": [
        "Ytest.shape"
      ],
      "execution_count": 22,
      "outputs": [
        {
          "output_type": "execute_result",
          "data": {
            "text/plain": [
              "(6000,)"
            ]
          },
          "metadata": {},
          "execution_count": 22
        }
      ]
    },
    {
      "cell_type": "code",
      "metadata": {
        "id": "qLURqZEeUIbj"
      },
      "source": [
        "from sklearn.linear_model import LogisticRegression"
      ],
      "execution_count": 23,
      "outputs": []
    },
    {
      "cell_type": "code",
      "metadata": {
        "id": "rO3H0VylUOxr"
      },
      "source": [
        "model = LogisticRegression()"
      ],
      "execution_count": 24,
      "outputs": []
    },
    {
      "cell_type": "code",
      "metadata": {
        "colab": {
          "base_uri": "https://localhost:8080/"
        },
        "id": "c61tYS-eUSui",
        "outputId": "0c562796-625a-40fb-ae78-d1be84d181b8"
      },
      "source": [
        "model.fit(Xtrain,Ytrain)"
      ],
      "execution_count": 26,
      "outputs": [
        {
          "output_type": "stream",
          "name": "stderr",
          "text": [
            "/usr/local/lib/python3.7/dist-packages/sklearn/linear_model/_logistic.py:940: ConvergenceWarning: lbfgs failed to converge (status=1):\n",
            "STOP: TOTAL NO. of ITERATIONS REACHED LIMIT.\n",
            "\n",
            "Increase the number of iterations (max_iter) or scale the data as shown in:\n",
            "    https://scikit-learn.org/stable/modules/preprocessing.html\n",
            "Please also refer to the documentation for alternative solver options:\n",
            "    https://scikit-learn.org/stable/modules/linear_model.html#logistic-regression\n",
            "  extra_warning_msg=_LOGISTIC_SOLVER_CONVERGENCE_MSG)\n"
          ]
        },
        {
          "output_type": "execute_result",
          "data": {
            "text/plain": [
              "LogisticRegression(C=1.0, class_weight=None, dual=False, fit_intercept=True,\n",
              "                   intercept_scaling=1, l1_ratio=None, max_iter=100,\n",
              "                   multi_class='auto', n_jobs=None, penalty='l2',\n",
              "                   random_state=None, solver='lbfgs', tol=0.0001, verbose=0,\n",
              "                   warm_start=False)"
            ]
          },
          "metadata": {},
          "execution_count": 26
        }
      ]
    },
    {
      "cell_type": "code",
      "metadata": {
        "colab": {
          "base_uri": "https://localhost:8080/"
        },
        "id": "rxXJuULKUyAL",
        "outputId": "47dd6858-9e95-48db-8719-c1ea026bee45"
      },
      "source": [
        "model.score(Xtrain,Ytrain)"
      ],
      "execution_count": 27,
      "outputs": [
        {
          "output_type": "execute_result",
          "data": {
            "text/plain": [
              "0.77975"
            ]
          },
          "metadata": {},
          "execution_count": 27
        }
      ]
    },
    {
      "cell_type": "code",
      "metadata": {
        "colab": {
          "base_uri": "https://localhost:8080/"
        },
        "id": "XALxaxBFU2kj",
        "outputId": "9d74a71e-fa10-49bf-9842-6f59aa2cfa2f"
      },
      "source": [
        "model.coef_"
      ],
      "execution_count": 28,
      "outputs": [
        {
          "output_type": "execute_result",
          "data": {
            "text/plain": [
              "array([[-4.98011565e-06, -3.81934094e-05, -4.80909491e-05,\n",
              "        -4.03620089e-05, -6.84109554e-04,  4.49260142e-05,\n",
              "         3.42276385e-05,  2.83678809e-05,  2.57363374e-05,\n",
              "         2.41746054e-05,  2.20799893e-05, -2.33037320e-06,\n",
              "         8.42967505e-07,  3.29015802e-06, -6.21966449e-07,\n",
              "         2.35047401e-06,  2.01068891e-06, -3.72014624e-05,\n",
              "        -1.79017328e-05, -8.43095869e-06, -8.96739542e-06,\n",
              "        -1.07282421e-05]])"
            ]
          },
          "metadata": {},
          "execution_count": 28
        }
      ]
    },
    {
      "cell_type": "code",
      "metadata": {
        "colab": {
          "base_uri": "https://localhost:8080/"
        },
        "id": "NbIb_xhZU5cr",
        "outputId": "c58a1580-d21f-49cb-e68f-a7461603b19a"
      },
      "source": [
        "model.intercept_"
      ],
      "execution_count": 29,
      "outputs": [
        {
          "output_type": "execute_result",
          "data": {
            "text/plain": [
              "array([-2.21127012e-05])"
            ]
          },
          "metadata": {},
          "execution_count": 29
        }
      ]
    },
    {
      "cell_type": "code",
      "metadata": {
        "id": "p13zHiTIU691"
      },
      "source": [
        "Ypred = model.predict(Xtest)"
      ],
      "execution_count": 30,
      "outputs": []
    },
    {
      "cell_type": "code",
      "metadata": {
        "colab": {
          "base_uri": "https://localhost:8080/"
        },
        "id": "DXfW3tzQVIdi",
        "outputId": "1d1abaf0-c407-4a39-a3fe-9f1fff9d1afa"
      },
      "source": [
        "Ypred"
      ],
      "execution_count": 31,
      "outputs": [
        {
          "output_type": "execute_result",
          "data": {
            "text/plain": [
              "array([0, 0, 0, ..., 0, 0, 0])"
            ]
          },
          "metadata": {},
          "execution_count": 31
        }
      ]
    },
    {
      "cell_type": "code",
      "metadata": {
        "colab": {
          "base_uri": "https://localhost:8080/"
        },
        "id": "x417dA5uVJ1C",
        "outputId": "13a0a2d2-1bd6-4160-ec28-2f8a44dff7d1"
      },
      "source": [
        "Ytest"
      ],
      "execution_count": 32,
      "outputs": [
        {
          "output_type": "execute_result",
          "data": {
            "text/plain": [
              "10616    0\n",
              "2787     1\n",
              "20114    0\n",
              "20510    0\n",
              "21163    0\n",
              "        ..\n",
              "23408    0\n",
              "28847    0\n",
              "22429    0\n",
              "10674    0\n",
              "12665    0\n",
              "Name: Default_Payment, Length: 6000, dtype: int64"
            ]
          },
          "metadata": {},
          "execution_count": 32
        }
      ]
    },
    {
      "cell_type": "code",
      "metadata": {
        "id": "UWoLyfq1VPDL"
      },
      "source": [
        "from sklearn.metrics import classification_report\n",
        "\n",
        "from sklearn.metrics import confusion_matrix\n",
        "\n",
        "from sklearn.metrics import accuracy_score"
      ],
      "execution_count": 33,
      "outputs": []
    },
    {
      "cell_type": "code",
      "metadata": {
        "colab": {
          "base_uri": "https://localhost:8080/"
        },
        "id": "dpIVG8CSVpCr",
        "outputId": "bc857c37-4310-4ea2-b73f-7917e00ccaa3"
      },
      "source": [
        "print(accuracy_score(Ytest, Ypred))"
      ],
      "execution_count": 35,
      "outputs": [
        {
          "output_type": "stream",
          "name": "stdout",
          "text": [
            "0.7755\n"
          ]
        }
      ]
    },
    {
      "cell_type": "code",
      "metadata": {
        "colab": {
          "base_uri": "https://localhost:8080/"
        },
        "id": "_5mcDa2jVuEz",
        "outputId": "d49ef00b-6738-43c0-ef56-aa26f680f87c"
      },
      "source": [
        "print(confusion_matrix(Ytest, Ypred))"
      ],
      "execution_count": 36,
      "outputs": [
        {
          "output_type": "stream",
          "name": "stdout",
          "text": [
            "[[4650    2]\n",
            " [1345    3]]\n"
          ]
        }
      ]
    },
    {
      "cell_type": "code",
      "metadata": {
        "colab": {
          "base_uri": "https://localhost:8080/"
        },
        "id": "jlMNt8c4V5uC",
        "outputId": "0fe9b6c8-3990-4141-b5d8-619898420c0e"
      },
      "source": [
        "print(classification_report(Ytest,Ypred))"
      ],
      "execution_count": 37,
      "outputs": [
        {
          "output_type": "stream",
          "name": "stdout",
          "text": [
            "              precision    recall  f1-score   support\n",
            "\n",
            "           0       0.78      1.00      0.87      4652\n",
            "           1       0.60      0.00      0.00      1348\n",
            "\n",
            "    accuracy                           0.78      6000\n",
            "   macro avg       0.69      0.50      0.44      6000\n",
            "weighted avg       0.74      0.78      0.68      6000\n",
            "\n"
          ]
        }
      ]
    },
    {
      "cell_type": "code",
      "metadata": {
        "id": "fql7M_x2V-jy"
      },
      "source": [
        ""
      ],
      "execution_count": null,
      "outputs": []
    }
  ]
}