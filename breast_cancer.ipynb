{
  "nbformat": 4,
  "nbformat_minor": 0,
  "metadata": {
    "colab": {
      "name": "breast cancer.ipynb",
      "provenance": [],
      "authorship_tag": "ABX9TyMcFj+Vjp+LnJ7nnISCLPfS",
      "include_colab_link": true
    },
    "kernelspec": {
      "name": "python3",
      "display_name": "Python 3"
    },
    "language_info": {
      "name": "python"
    }
  },
  "cells": [
    {
      "cell_type": "markdown",
      "metadata": {
        "id": "view-in-github",
        "colab_type": "text"
      },
      "source": [
        "<a href=\"https://colab.research.google.com/github/SamanvithaBolem/SamanvithaBolem/blob/main/breast_cancer.ipynb\" target=\"_parent\"><img src=\"https://colab.research.google.com/assets/colab-badge.svg\" alt=\"Open In Colab\"/></a>"
      ]
    },
    {
      "cell_type": "code",
      "metadata": {
        "id": "4zMdJ0xGRkIy"
      },
      "source": [
        "import pandas as pd\n",
        "import numpy as np\n",
        "import matplotlib.pyplot as plt\n",
        "import seaborn as sns\n",
        "import sklearn\n",
        "\n",
        "data = pd.read_csv('/content/cancerdata.csv')"
      ],
      "execution_count": 38,
      "outputs": []
    },
    {
      "cell_type": "code",
      "metadata": {
        "colab": {
          "base_uri": "https://localhost:8080/",
          "height": 240
        },
        "id": "xwF59QaiSC_2",
        "outputId": "a8711f1e-ef2d-4d72-c8c7-d36ea3d34c57"
      },
      "source": [
        "data.head()"
      ],
      "execution_count": 39,
      "outputs": [
        {
          "output_type": "execute_result",
          "data": {
            "text/html": [
              "<div>\n",
              "<style scoped>\n",
              "    .dataframe tbody tr th:only-of-type {\n",
              "        vertical-align: middle;\n",
              "    }\n",
              "\n",
              "    .dataframe tbody tr th {\n",
              "        vertical-align: top;\n",
              "    }\n",
              "\n",
              "    .dataframe thead th {\n",
              "        text-align: right;\n",
              "    }\n",
              "</style>\n",
              "<table border=\"1\" class=\"dataframe\">\n",
              "  <thead>\n",
              "    <tr style=\"text-align: right;\">\n",
              "      <th></th>\n",
              "      <th>id</th>\n",
              "      <th>diagnosis</th>\n",
              "      <th>radius_mean</th>\n",
              "      <th>texture_mean</th>\n",
              "      <th>perimeter_mean</th>\n",
              "      <th>area_mean</th>\n",
              "      <th>smoothness_mean</th>\n",
              "      <th>compactness_mean</th>\n",
              "      <th>concavity_mean</th>\n",
              "      <th>concave points_mean</th>\n",
              "      <th>symmetry_mean</th>\n",
              "      <th>fractal_dimension_mean</th>\n",
              "      <th>radius_se</th>\n",
              "      <th>texture_se</th>\n",
              "      <th>perimeter_se</th>\n",
              "      <th>area_se</th>\n",
              "      <th>smoothness_se</th>\n",
              "      <th>compactness_se</th>\n",
              "      <th>concavity_se</th>\n",
              "      <th>concave points_se</th>\n",
              "      <th>symmetry_se</th>\n",
              "      <th>fractal_dimension_se</th>\n",
              "      <th>radius_worst</th>\n",
              "      <th>texture_worst</th>\n",
              "      <th>perimeter_worst</th>\n",
              "      <th>area_worst</th>\n",
              "      <th>smoothness_worst</th>\n",
              "      <th>compactness_wors</th>\n",
              "      <th>concavity_worst</th>\n",
              "      <th>concave points_worst</th>\n",
              "      <th>symmetry_worst</th>\n",
              "      <th>fractal_dimension_worst</th>\n",
              "    </tr>\n",
              "  </thead>\n",
              "  <tbody>\n",
              "    <tr>\n",
              "      <th>0</th>\n",
              "      <td>842302</td>\n",
              "      <td>M</td>\n",
              "      <td>14.204716</td>\n",
              "      <td>20.202641</td>\n",
              "      <td>122.80</td>\n",
              "      <td>1001.0</td>\n",
              "      <td>0.096113</td>\n",
              "      <td>0.089479</td>\n",
              "      <td>0.184766</td>\n",
              "      <td>0.096526</td>\n",
              "      <td>0.150053</td>\n",
              "      <td>0.059764</td>\n",
              "      <td>0.006422</td>\n",
              "      <td>1.615280</td>\n",
              "      <td>2.763911</td>\n",
              "      <td>153.40</td>\n",
              "      <td>0.007540</td>\n",
              "      <td>0.028043</td>\n",
              "      <td>0.05373</td>\n",
              "      <td>0.01587</td>\n",
              "      <td>0.027044</td>\n",
              "      <td>0.003133</td>\n",
              "      <td>25.38</td>\n",
              "      <td>17.33</td>\n",
              "      <td>184.60</td>\n",
              "      <td>2019.0</td>\n",
              "      <td>0.1622</td>\n",
              "      <td>0.134597</td>\n",
              "      <td>0.7119</td>\n",
              "      <td>0.120681</td>\n",
              "      <td>0.4601</td>\n",
              "      <td>0.101594</td>\n",
              "    </tr>\n",
              "    <tr>\n",
              "      <th>1</th>\n",
              "      <td>842517</td>\n",
              "      <td>M</td>\n",
              "      <td>18.483496</td>\n",
              "      <td>22.464181</td>\n",
              "      <td>132.90</td>\n",
              "      <td>1326.0</td>\n",
              "      <td>0.094443</td>\n",
              "      <td>0.063299</td>\n",
              "      <td>0.086927</td>\n",
              "      <td>0.021108</td>\n",
              "      <td>0.213798</td>\n",
              "      <td>0.074897</td>\n",
              "      <td>0.303622</td>\n",
              "      <td>1.171764</td>\n",
              "      <td>6.690985</td>\n",
              "      <td>74.08</td>\n",
              "      <td>0.003675</td>\n",
              "      <td>0.019118</td>\n",
              "      <td>0.01860</td>\n",
              "      <td>0.01340</td>\n",
              "      <td>0.021795</td>\n",
              "      <td>0.000128</td>\n",
              "      <td>24.99</td>\n",
              "      <td>23.41</td>\n",
              "      <td>158.80</td>\n",
              "      <td>1956.0</td>\n",
              "      <td>0.1238</td>\n",
              "      <td>0.529227</td>\n",
              "      <td>0.2416</td>\n",
              "      <td>0.035439</td>\n",
              "      <td>0.2750</td>\n",
              "      <td>0.079397</td>\n",
              "    </tr>\n",
              "    <tr>\n",
              "      <th>2</th>\n",
              "      <td>84300903</td>\n",
              "      <td>M</td>\n",
              "      <td>15.516300</td>\n",
              "      <td>18.271486</td>\n",
              "      <td>130.00</td>\n",
              "      <td>1203.0</td>\n",
              "      <td>0.075842</td>\n",
              "      <td>0.059376</td>\n",
              "      <td>0.132738</td>\n",
              "      <td>0.052357</td>\n",
              "      <td>0.222581</td>\n",
              "      <td>0.056730</td>\n",
              "      <td>0.289027</td>\n",
              "      <td>-0.546491</td>\n",
              "      <td>5.660769</td>\n",
              "      <td>94.03</td>\n",
              "      <td>0.009390</td>\n",
              "      <td>0.035186</td>\n",
              "      <td>0.03832</td>\n",
              "      <td>0.02058</td>\n",
              "      <td>0.020481</td>\n",
              "      <td>0.004616</td>\n",
              "      <td>23.57</td>\n",
              "      <td>25.53</td>\n",
              "      <td>152.50</td>\n",
              "      <td>1709.0</td>\n",
              "      <td>0.1444</td>\n",
              "      <td>0.166906</td>\n",
              "      <td>0.4504</td>\n",
              "      <td>0.149670</td>\n",
              "      <td>0.3613</td>\n",
              "      <td>0.088802</td>\n",
              "    </tr>\n",
              "    <tr>\n",
              "      <th>3</th>\n",
              "      <td>84348301</td>\n",
              "      <td>M</td>\n",
              "      <td>15.540583</td>\n",
              "      <td>27.560108</td>\n",
              "      <td>77.58</td>\n",
              "      <td>386.1</td>\n",
              "      <td>0.091525</td>\n",
              "      <td>0.088022</td>\n",
              "      <td>0.194466</td>\n",
              "      <td>0.010895</td>\n",
              "      <td>0.179685</td>\n",
              "      <td>0.067824</td>\n",
              "      <td>0.765715</td>\n",
              "      <td>0.842057</td>\n",
              "      <td>-0.081625</td>\n",
              "      <td>27.23</td>\n",
              "      <td>0.006981</td>\n",
              "      <td>-0.028741</td>\n",
              "      <td>0.05661</td>\n",
              "      <td>0.01867</td>\n",
              "      <td>0.014801</td>\n",
              "      <td>0.003431</td>\n",
              "      <td>14.91</td>\n",
              "      <td>26.50</td>\n",
              "      <td>98.87</td>\n",
              "      <td>567.7</td>\n",
              "      <td>0.2098</td>\n",
              "      <td>0.224998</td>\n",
              "      <td>0.6869</td>\n",
              "      <td>0.110799</td>\n",
              "      <td>0.6638</td>\n",
              "      <td>0.086210</td>\n",
              "    </tr>\n",
              "    <tr>\n",
              "      <th>4</th>\n",
              "      <td>84358402</td>\n",
              "      <td>M</td>\n",
              "      <td>14.005198</td>\n",
              "      <td>11.678064</td>\n",
              "      <td>135.10</td>\n",
              "      <td>1297.0</td>\n",
              "      <td>0.092790</td>\n",
              "      <td>0.010642</td>\n",
              "      <td>0.030518</td>\n",
              "      <td>0.037828</td>\n",
              "      <td>0.147534</td>\n",
              "      <td>0.070231</td>\n",
              "      <td>0.732142</td>\n",
              "      <td>1.830999</td>\n",
              "      <td>2.432024</td>\n",
              "      <td>94.44</td>\n",
              "      <td>0.006293</td>\n",
              "      <td>0.020667</td>\n",
              "      <td>0.05688</td>\n",
              "      <td>0.01885</td>\n",
              "      <td>0.026821</td>\n",
              "      <td>0.005654</td>\n",
              "      <td>22.54</td>\n",
              "      <td>16.67</td>\n",
              "      <td>152.20</td>\n",
              "      <td>1575.0</td>\n",
              "      <td>0.1374</td>\n",
              "      <td>0.075833</td>\n",
              "      <td>0.4000</td>\n",
              "      <td>0.126386</td>\n",
              "      <td>0.2364</td>\n",
              "      <td>0.087483</td>\n",
              "    </tr>\n",
              "  </tbody>\n",
              "</table>\n",
              "</div>"
            ],
            "text/plain": [
              "         id diagnosis  ...  symmetry_worst  fractal_dimension_worst\n",
              "0    842302         M  ...          0.4601                 0.101594\n",
              "1    842517         M  ...          0.2750                 0.079397\n",
              "2  84300903         M  ...          0.3613                 0.088802\n",
              "3  84348301         M  ...          0.6638                 0.086210\n",
              "4  84358402         M  ...          0.2364                 0.087483\n",
              "\n",
              "[5 rows x 32 columns]"
            ]
          },
          "metadata": {},
          "execution_count": 39
        }
      ]
    },
    {
      "cell_type": "code",
      "metadata": {
        "colab": {
          "base_uri": "https://localhost:8080/"
        },
        "id": "obnRmismSHsE",
        "outputId": "f6608b18-dc39-43f2-baf1-01bf06cd11da"
      },
      "source": [
        "data.shape\n",
        "data.info()"
      ],
      "execution_count": 40,
      "outputs": [
        {
          "output_type": "stream",
          "name": "stdout",
          "text": [
            "<class 'pandas.core.frame.DataFrame'>\n",
            "RangeIndex: 569 entries, 0 to 568\n",
            "Data columns (total 32 columns):\n",
            " #   Column                   Non-Null Count  Dtype  \n",
            "---  ------                   --------------  -----  \n",
            " 0   id                       569 non-null    int64  \n",
            " 1   diagnosis                569 non-null    object \n",
            " 2   radius_mean              569 non-null    float64\n",
            " 3   texture_mean             569 non-null    float64\n",
            " 4   perimeter_mean           569 non-null    float64\n",
            " 5   area_mean                569 non-null    float64\n",
            " 6   smoothness_mean          569 non-null    float64\n",
            " 7   compactness_mean         569 non-null    float64\n",
            " 8   concavity_mean           569 non-null    float64\n",
            " 9   concave points_mean      569 non-null    float64\n",
            " 10  symmetry_mean            569 non-null    float64\n",
            " 11  fractal_dimension_mean   569 non-null    float64\n",
            " 12  radius_se                569 non-null    float64\n",
            " 13  texture_se               569 non-null    float64\n",
            " 14  perimeter_se             569 non-null    float64\n",
            " 15  area_se                  569 non-null    float64\n",
            " 16  smoothness_se            569 non-null    float64\n",
            " 17  compactness_se           569 non-null    float64\n",
            " 18  concavity_se             569 non-null    float64\n",
            " 19  concave points_se        569 non-null    float64\n",
            " 20  symmetry_se              569 non-null    float64\n",
            " 21  fractal_dimension_se     569 non-null    float64\n",
            " 22  radius_worst             569 non-null    float64\n",
            " 23  texture_worst            569 non-null    float64\n",
            " 24  perimeter_worst          569 non-null    float64\n",
            " 25  area_worst               569 non-null    float64\n",
            " 26  smoothness_worst         569 non-null    float64\n",
            " 27  compactness_wors         569 non-null    float64\n",
            " 28  concavity_worst          569 non-null    float64\n",
            " 29  concave points_worst     569 non-null    float64\n",
            " 30  symmetry_worst           569 non-null    float64\n",
            " 31  fractal_dimension_worst  569 non-null    float64\n",
            "dtypes: float64(30), int64(1), object(1)\n",
            "memory usage: 142.4+ KB\n"
          ]
        }
      ]
    },
    {
      "cell_type": "code",
      "metadata": {
        "id": "UGTnh7LPSWR0"
      },
      "source": [
        "data = data.drop(columns=['id'])"
      ],
      "execution_count": 41,
      "outputs": []
    },
    {
      "cell_type": "code",
      "metadata": {
        "colab": {
          "base_uri": "https://localhost:8080/",
          "height": 240
        },
        "id": "iW-YRZATSfH0",
        "outputId": "b7605644-f8bd-4ea2-fc65-0de20114ff03"
      },
      "source": [
        "data.head()"
      ],
      "execution_count": 42,
      "outputs": [
        {
          "output_type": "execute_result",
          "data": {
            "text/html": [
              "<div>\n",
              "<style scoped>\n",
              "    .dataframe tbody tr th:only-of-type {\n",
              "        vertical-align: middle;\n",
              "    }\n",
              "\n",
              "    .dataframe tbody tr th {\n",
              "        vertical-align: top;\n",
              "    }\n",
              "\n",
              "    .dataframe thead th {\n",
              "        text-align: right;\n",
              "    }\n",
              "</style>\n",
              "<table border=\"1\" class=\"dataframe\">\n",
              "  <thead>\n",
              "    <tr style=\"text-align: right;\">\n",
              "      <th></th>\n",
              "      <th>diagnosis</th>\n",
              "      <th>radius_mean</th>\n",
              "      <th>texture_mean</th>\n",
              "      <th>perimeter_mean</th>\n",
              "      <th>area_mean</th>\n",
              "      <th>smoothness_mean</th>\n",
              "      <th>compactness_mean</th>\n",
              "      <th>concavity_mean</th>\n",
              "      <th>concave points_mean</th>\n",
              "      <th>symmetry_mean</th>\n",
              "      <th>fractal_dimension_mean</th>\n",
              "      <th>radius_se</th>\n",
              "      <th>texture_se</th>\n",
              "      <th>perimeter_se</th>\n",
              "      <th>area_se</th>\n",
              "      <th>smoothness_se</th>\n",
              "      <th>compactness_se</th>\n",
              "      <th>concavity_se</th>\n",
              "      <th>concave points_se</th>\n",
              "      <th>symmetry_se</th>\n",
              "      <th>fractal_dimension_se</th>\n",
              "      <th>radius_worst</th>\n",
              "      <th>texture_worst</th>\n",
              "      <th>perimeter_worst</th>\n",
              "      <th>area_worst</th>\n",
              "      <th>smoothness_worst</th>\n",
              "      <th>compactness_wors</th>\n",
              "      <th>concavity_worst</th>\n",
              "      <th>concave points_worst</th>\n",
              "      <th>symmetry_worst</th>\n",
              "      <th>fractal_dimension_worst</th>\n",
              "    </tr>\n",
              "  </thead>\n",
              "  <tbody>\n",
              "    <tr>\n",
              "      <th>0</th>\n",
              "      <td>M</td>\n",
              "      <td>14.204716</td>\n",
              "      <td>20.202641</td>\n",
              "      <td>122.80</td>\n",
              "      <td>1001.0</td>\n",
              "      <td>0.096113</td>\n",
              "      <td>0.089479</td>\n",
              "      <td>0.184766</td>\n",
              "      <td>0.096526</td>\n",
              "      <td>0.150053</td>\n",
              "      <td>0.059764</td>\n",
              "      <td>0.006422</td>\n",
              "      <td>1.615280</td>\n",
              "      <td>2.763911</td>\n",
              "      <td>153.40</td>\n",
              "      <td>0.007540</td>\n",
              "      <td>0.028043</td>\n",
              "      <td>0.05373</td>\n",
              "      <td>0.01587</td>\n",
              "      <td>0.027044</td>\n",
              "      <td>0.003133</td>\n",
              "      <td>25.38</td>\n",
              "      <td>17.33</td>\n",
              "      <td>184.60</td>\n",
              "      <td>2019.0</td>\n",
              "      <td>0.1622</td>\n",
              "      <td>0.134597</td>\n",
              "      <td>0.7119</td>\n",
              "      <td>0.120681</td>\n",
              "      <td>0.4601</td>\n",
              "      <td>0.101594</td>\n",
              "    </tr>\n",
              "    <tr>\n",
              "      <th>1</th>\n",
              "      <td>M</td>\n",
              "      <td>18.483496</td>\n",
              "      <td>22.464181</td>\n",
              "      <td>132.90</td>\n",
              "      <td>1326.0</td>\n",
              "      <td>0.094443</td>\n",
              "      <td>0.063299</td>\n",
              "      <td>0.086927</td>\n",
              "      <td>0.021108</td>\n",
              "      <td>0.213798</td>\n",
              "      <td>0.074897</td>\n",
              "      <td>0.303622</td>\n",
              "      <td>1.171764</td>\n",
              "      <td>6.690985</td>\n",
              "      <td>74.08</td>\n",
              "      <td>0.003675</td>\n",
              "      <td>0.019118</td>\n",
              "      <td>0.01860</td>\n",
              "      <td>0.01340</td>\n",
              "      <td>0.021795</td>\n",
              "      <td>0.000128</td>\n",
              "      <td>24.99</td>\n",
              "      <td>23.41</td>\n",
              "      <td>158.80</td>\n",
              "      <td>1956.0</td>\n",
              "      <td>0.1238</td>\n",
              "      <td>0.529227</td>\n",
              "      <td>0.2416</td>\n",
              "      <td>0.035439</td>\n",
              "      <td>0.2750</td>\n",
              "      <td>0.079397</td>\n",
              "    </tr>\n",
              "    <tr>\n",
              "      <th>2</th>\n",
              "      <td>M</td>\n",
              "      <td>15.516300</td>\n",
              "      <td>18.271486</td>\n",
              "      <td>130.00</td>\n",
              "      <td>1203.0</td>\n",
              "      <td>0.075842</td>\n",
              "      <td>0.059376</td>\n",
              "      <td>0.132738</td>\n",
              "      <td>0.052357</td>\n",
              "      <td>0.222581</td>\n",
              "      <td>0.056730</td>\n",
              "      <td>0.289027</td>\n",
              "      <td>-0.546491</td>\n",
              "      <td>5.660769</td>\n",
              "      <td>94.03</td>\n",
              "      <td>0.009390</td>\n",
              "      <td>0.035186</td>\n",
              "      <td>0.03832</td>\n",
              "      <td>0.02058</td>\n",
              "      <td>0.020481</td>\n",
              "      <td>0.004616</td>\n",
              "      <td>23.57</td>\n",
              "      <td>25.53</td>\n",
              "      <td>152.50</td>\n",
              "      <td>1709.0</td>\n",
              "      <td>0.1444</td>\n",
              "      <td>0.166906</td>\n",
              "      <td>0.4504</td>\n",
              "      <td>0.149670</td>\n",
              "      <td>0.3613</td>\n",
              "      <td>0.088802</td>\n",
              "    </tr>\n",
              "    <tr>\n",
              "      <th>3</th>\n",
              "      <td>M</td>\n",
              "      <td>15.540583</td>\n",
              "      <td>27.560108</td>\n",
              "      <td>77.58</td>\n",
              "      <td>386.1</td>\n",
              "      <td>0.091525</td>\n",
              "      <td>0.088022</td>\n",
              "      <td>0.194466</td>\n",
              "      <td>0.010895</td>\n",
              "      <td>0.179685</td>\n",
              "      <td>0.067824</td>\n",
              "      <td>0.765715</td>\n",
              "      <td>0.842057</td>\n",
              "      <td>-0.081625</td>\n",
              "      <td>27.23</td>\n",
              "      <td>0.006981</td>\n",
              "      <td>-0.028741</td>\n",
              "      <td>0.05661</td>\n",
              "      <td>0.01867</td>\n",
              "      <td>0.014801</td>\n",
              "      <td>0.003431</td>\n",
              "      <td>14.91</td>\n",
              "      <td>26.50</td>\n",
              "      <td>98.87</td>\n",
              "      <td>567.7</td>\n",
              "      <td>0.2098</td>\n",
              "      <td>0.224998</td>\n",
              "      <td>0.6869</td>\n",
              "      <td>0.110799</td>\n",
              "      <td>0.6638</td>\n",
              "      <td>0.086210</td>\n",
              "    </tr>\n",
              "    <tr>\n",
              "      <th>4</th>\n",
              "      <td>M</td>\n",
              "      <td>14.005198</td>\n",
              "      <td>11.678064</td>\n",
              "      <td>135.10</td>\n",
              "      <td>1297.0</td>\n",
              "      <td>0.092790</td>\n",
              "      <td>0.010642</td>\n",
              "      <td>0.030518</td>\n",
              "      <td>0.037828</td>\n",
              "      <td>0.147534</td>\n",
              "      <td>0.070231</td>\n",
              "      <td>0.732142</td>\n",
              "      <td>1.830999</td>\n",
              "      <td>2.432024</td>\n",
              "      <td>94.44</td>\n",
              "      <td>0.006293</td>\n",
              "      <td>0.020667</td>\n",
              "      <td>0.05688</td>\n",
              "      <td>0.01885</td>\n",
              "      <td>0.026821</td>\n",
              "      <td>0.005654</td>\n",
              "      <td>22.54</td>\n",
              "      <td>16.67</td>\n",
              "      <td>152.20</td>\n",
              "      <td>1575.0</td>\n",
              "      <td>0.1374</td>\n",
              "      <td>0.075833</td>\n",
              "      <td>0.4000</td>\n",
              "      <td>0.126386</td>\n",
              "      <td>0.2364</td>\n",
              "      <td>0.087483</td>\n",
              "    </tr>\n",
              "  </tbody>\n",
              "</table>\n",
              "</div>"
            ],
            "text/plain": [
              "  diagnosis  radius_mean  ...  symmetry_worst  fractal_dimension_worst\n",
              "0         M    14.204716  ...          0.4601                 0.101594\n",
              "1         M    18.483496  ...          0.2750                 0.079397\n",
              "2         M    15.516300  ...          0.3613                 0.088802\n",
              "3         M    15.540583  ...          0.6638                 0.086210\n",
              "4         M    14.005198  ...          0.2364                 0.087483\n",
              "\n",
              "[5 rows x 31 columns]"
            ]
          },
          "metadata": {},
          "execution_count": 42
        }
      ]
    },
    {
      "cell_type": "code",
      "metadata": {
        "colab": {
          "base_uri": "https://localhost:8080/"
        },
        "id": "TRxIOoWXSkh8",
        "outputId": "6043b73c-114c-44bb-93fb-96e797faf7dd"
      },
      "source": [
        "data.columns"
      ],
      "execution_count": 43,
      "outputs": [
        {
          "output_type": "execute_result",
          "data": {
            "text/plain": [
              "Index(['diagnosis', 'radius_mean', 'texture_mean', 'perimeter_mean',\n",
              "       'area_mean', 'smoothness_mean', 'compactness_mean', 'concavity_mean',\n",
              "       'concave points_mean', 'symmetry_mean', 'fractal_dimension_mean',\n",
              "       'radius_se', 'texture_se', 'perimeter_se', 'area_se', 'smoothness_se',\n",
              "       'compactness_se', 'concavity_se', 'concave points_se', 'symmetry_se',\n",
              "       'fractal_dimension_se', 'radius_worst', 'texture_worst',\n",
              "       'perimeter_worst', 'area_worst', 'smoothness_worst', 'compactness_wors',\n",
              "       'concavity_worst', 'concave points_worst', 'symmetry_worst',\n",
              "       'fractal_dimension_worst'],\n",
              "      dtype='object')"
            ]
          },
          "metadata": {},
          "execution_count": 43
        }
      ]
    },
    {
      "cell_type": "code",
      "metadata": {
        "id": "k6oPGVyVS9hd"
      },
      "source": [
        "X = data.loc[:,['radius_mean', 'texture_mean', 'perimeter_mean',\n",
        "       'area_mean', 'smoothness_mean', 'compactness_mean', 'concavity_mean',\n",
        "       'concave points_mean', 'symmetry_mean', 'fractal_dimension_mean',\n",
        "       'radius_se', 'texture_se', 'perimeter_se', 'area_se', 'smoothness_se',\n",
        "       'compactness_se', 'concavity_se', 'concave points_se', 'symmetry_se',\n",
        "       'fractal_dimension_se', 'radius_worst', 'texture_worst',\n",
        "       'perimeter_worst', 'area_worst', 'smoothness_worst', 'compactness_wors',\n",
        "       'concavity_worst', 'concave points_worst', 'symmetry_worst',\n",
        "       'fractal_dimension_worst']]\n",
        "      \n",
        "Y = data.loc[:,'diagnosis']      "
      ],
      "execution_count": 45,
      "outputs": []
    },
    {
      "cell_type": "code",
      "metadata": {
        "id": "Y3DVN6aoTPmU"
      },
      "source": [
        "from sklearn.model_selection import train_test_split\n",
        "\n",
        "Xtrain,Xtest, Ytrain, Ytest = train_test_split(X,Y, test_size=0.2)"
      ],
      "execution_count": 46,
      "outputs": []
    },
    {
      "cell_type": "code",
      "metadata": {
        "colab": {
          "base_uri": "https://localhost:8080/"
        },
        "id": "J9rbm6RIT6zU",
        "outputId": "1f4e5757-17a2-431c-ff79-d6462d4992c9"
      },
      "source": [
        "Xtrain.shape"
      ],
      "execution_count": 47,
      "outputs": [
        {
          "output_type": "execute_result",
          "data": {
            "text/plain": [
              "(455, 30)"
            ]
          },
          "metadata": {},
          "execution_count": 47
        }
      ]
    },
    {
      "cell_type": "code",
      "metadata": {
        "colab": {
          "base_uri": "https://localhost:8080/"
        },
        "id": "k4X5O0OdUDQk",
        "outputId": "90021922-1e8d-4398-cc50-702a8078d5f6"
      },
      "source": [
        "Xtest.shape"
      ],
      "execution_count": 48,
      "outputs": [
        {
          "output_type": "execute_result",
          "data": {
            "text/plain": [
              "(114, 30)"
            ]
          },
          "metadata": {},
          "execution_count": 48
        }
      ]
    },
    {
      "cell_type": "code",
      "metadata": {
        "colab": {
          "base_uri": "https://localhost:8080/"
        },
        "id": "6hB0b_wkUE2r",
        "outputId": "31980f00-963a-429a-d184-26efb51bb344"
      },
      "source": [
        "Ytrain.shape"
      ],
      "execution_count": 49,
      "outputs": [
        {
          "output_type": "execute_result",
          "data": {
            "text/plain": [
              "(455,)"
            ]
          },
          "metadata": {},
          "execution_count": 49
        }
      ]
    },
    {
      "cell_type": "code",
      "metadata": {
        "colab": {
          "base_uri": "https://localhost:8080/"
        },
        "id": "mwLKU2KnUHDl",
        "outputId": "c18cd26b-6121-4adf-fd91-e1752edc6b75"
      },
      "source": [
        "Ytest.shape"
      ],
      "execution_count": 50,
      "outputs": [
        {
          "output_type": "execute_result",
          "data": {
            "text/plain": [
              "(114,)"
            ]
          },
          "metadata": {},
          "execution_count": 50
        }
      ]
    },
    {
      "cell_type": "code",
      "metadata": {
        "id": "qLURqZEeUIbj"
      },
      "source": [
        "from sklearn.linear_model import LogisticRegression"
      ],
      "execution_count": 51,
      "outputs": []
    },
    {
      "cell_type": "code",
      "metadata": {
        "id": "rO3H0VylUOxr"
      },
      "source": [
        "model = LogisticRegression()"
      ],
      "execution_count": 52,
      "outputs": []
    },
    {
      "cell_type": "code",
      "metadata": {
        "colab": {
          "base_uri": "https://localhost:8080/"
        },
        "id": "c61tYS-eUSui",
        "outputId": "025d40d9-a8b5-495d-ec05-b6dde90ffaa0"
      },
      "source": [
        "model.fit(Xtrain,Ytrain)"
      ],
      "execution_count": 53,
      "outputs": [
        {
          "output_type": "stream",
          "name": "stderr",
          "text": [
            "/usr/local/lib/python3.7/dist-packages/sklearn/linear_model/_logistic.py:940: ConvergenceWarning: lbfgs failed to converge (status=1):\n",
            "STOP: TOTAL NO. of ITERATIONS REACHED LIMIT.\n",
            "\n",
            "Increase the number of iterations (max_iter) or scale the data as shown in:\n",
            "    https://scikit-learn.org/stable/modules/preprocessing.html\n",
            "Please also refer to the documentation for alternative solver options:\n",
            "    https://scikit-learn.org/stable/modules/linear_model.html#logistic-regression\n",
            "  extra_warning_msg=_LOGISTIC_SOLVER_CONVERGENCE_MSG)\n"
          ]
        },
        {
          "output_type": "execute_result",
          "data": {
            "text/plain": [
              "LogisticRegression(C=1.0, class_weight=None, dual=False, fit_intercept=True,\n",
              "                   intercept_scaling=1, l1_ratio=None, max_iter=100,\n",
              "                   multi_class='auto', n_jobs=None, penalty='l2',\n",
              "                   random_state=None, solver='lbfgs', tol=0.0001, verbose=0,\n",
              "                   warm_start=False)"
            ]
          },
          "metadata": {},
          "execution_count": 53
        }
      ]
    },
    {
      "cell_type": "code",
      "metadata": {
        "colab": {
          "base_uri": "https://localhost:8080/"
        },
        "id": "rxXJuULKUyAL",
        "outputId": "25884d97-cf9b-4b52-b048-7f2a5e9e5a38"
      },
      "source": [
        "model.score(Xtrain,Ytrain)"
      ],
      "execution_count": 54,
      "outputs": [
        {
          "output_type": "execute_result",
          "data": {
            "text/plain": [
              "0.945054945054945"
            ]
          },
          "metadata": {},
          "execution_count": 54
        }
      ]
    },
    {
      "cell_type": "code",
      "metadata": {
        "colab": {
          "base_uri": "https://localhost:8080/"
        },
        "id": "XALxaxBFU2kj",
        "outputId": "c3932e57-709c-4f2e-8976-345bf96dbff5"
      },
      "source": [
        "model.coef_"
      ],
      "execution_count": 55,
      "outputs": [
        {
          "output_type": "execute_result",
          "data": {
            "text/plain": [
              "array([[-2.95847027e-02, -6.65525999e-02, -7.45830821e-01,\n",
              "         2.91601260e-02, -6.68311338e-03,  9.98283008e-04,\n",
              "        -1.24427066e-03,  6.92274524e-03, -7.40174985e-03,\n",
              "        -6.39475785e-03, -1.44824304e-02, -7.81148357e-02,\n",
              "         1.82146341e-02,  6.68180461e-02, -5.44513331e-04,\n",
              "        -2.14080452e-03,  1.82603575e-02,  4.28311405e-03,\n",
              "        -2.60583143e-03, -1.00699895e-03, -4.49698905e-01,\n",
              "         2.27456669e-01,  4.33818434e-01,  6.37308587e-03,\n",
              "         1.54484876e-02, -4.12354662e-02,  2.16347409e-01,\n",
              "        -2.52493303e-02,  3.79814561e-02, -6.32632893e-03]])"
            ]
          },
          "metadata": {},
          "execution_count": 55
        }
      ]
    },
    {
      "cell_type": "code",
      "metadata": {
        "colab": {
          "base_uri": "https://localhost:8080/"
        },
        "id": "NbIb_xhZU5cr",
        "outputId": "9341a908-13ab-43ff-ef40-a65101ea6b47"
      },
      "source": [
        "model.intercept_"
      ],
      "execution_count": 56,
      "outputs": [
        {
          "output_type": "execute_result",
          "data": {
            "text/plain": [
              "array([-0.06988378])"
            ]
          },
          "metadata": {},
          "execution_count": 56
        }
      ]
    },
    {
      "cell_type": "code",
      "metadata": {
        "id": "p13zHiTIU691"
      },
      "source": [
        "Ypred = model.predict(Xtest)"
      ],
      "execution_count": 57,
      "outputs": []
    },
    {
      "cell_type": "code",
      "metadata": {
        "colab": {
          "base_uri": "https://localhost:8080/"
        },
        "id": "DXfW3tzQVIdi",
        "outputId": "de659b67-1fc7-43fc-b4bd-ce3aecbc5132"
      },
      "source": [
        "Ypred"
      ],
      "execution_count": 58,
      "outputs": [
        {
          "output_type": "execute_result",
          "data": {
            "text/plain": [
              "array(['M', 'B', 'B', 'B', 'B', 'M', 'B', 'B', 'B', 'B', 'M', 'B', 'M',\n",
              "       'B', 'M', 'B', 'M', 'B', 'B', 'B', 'B', 'M', 'B', 'B', 'M', 'M',\n",
              "       'M', 'M', 'M', 'B', 'M', 'M', 'B', 'M', 'B', 'B', 'M', 'B', 'B',\n",
              "       'M', 'B', 'M', 'M', 'M', 'B', 'B', 'M', 'M', 'M', 'B', 'B', 'B',\n",
              "       'B', 'B', 'M', 'B', 'B', 'M', 'M', 'B', 'B', 'B', 'B', 'B', 'B',\n",
              "       'B', 'M', 'M', 'B', 'M', 'B', 'B', 'M', 'B', 'M', 'B', 'B', 'B',\n",
              "       'M', 'B', 'B', 'M', 'B', 'B', 'M', 'M', 'M', 'B', 'M', 'B', 'M',\n",
              "       'M', 'B', 'M', 'B', 'B', 'B', 'B', 'M', 'M', 'B', 'B', 'M', 'M',\n",
              "       'M', 'B', 'B', 'B', 'B', 'M', 'M', 'B', 'B', 'B'], dtype=object)"
            ]
          },
          "metadata": {},
          "execution_count": 58
        }
      ]
    },
    {
      "cell_type": "code",
      "metadata": {
        "colab": {
          "base_uri": "https://localhost:8080/"
        },
        "id": "x417dA5uVJ1C",
        "outputId": "ddfebfb1-7655-4f04-848c-66a128f263af"
      },
      "source": [
        "Ytest"
      ],
      "execution_count": 59,
      "outputs": [
        {
          "output_type": "execute_result",
          "data": {
            "text/plain": [
              "262    M\n",
              "66     B\n",
              "420    B\n",
              "243    B\n",
              "325    B\n",
              "      ..\n",
              "432    M\n",
              "119    M\n",
              "525    B\n",
              "3      M\n",
              "452    B\n",
              "Name: diagnosis, Length: 114, dtype: object"
            ]
          },
          "metadata": {},
          "execution_count": 59
        }
      ]
    },
    {
      "cell_type": "code",
      "metadata": {
        "id": "UWoLyfq1VPDL"
      },
      "source": [
        "from sklearn.metrics import classification_report\n",
        "\n",
        "from sklearn.metrics import confusion_matrix\n",
        "\n",
        "from sklearn.metrics import accuracy_score"
      ],
      "execution_count": 60,
      "outputs": []
    },
    {
      "cell_type": "code",
      "metadata": {
        "colab": {
          "base_uri": "https://localhost:8080/"
        },
        "id": "dpIVG8CSVpCr",
        "outputId": "ba047c91-a02c-447c-e6df-d014e3e743cb"
      },
      "source": [
        "print(accuracy_score(Ytest, Ypred))"
      ],
      "execution_count": 61,
      "outputs": [
        {
          "output_type": "stream",
          "name": "stdout",
          "text": [
            "0.9210526315789473\n"
          ]
        }
      ]
    },
    {
      "cell_type": "code",
      "metadata": {
        "colab": {
          "base_uri": "https://localhost:8080/"
        },
        "id": "_5mcDa2jVuEz",
        "outputId": "bf820ddf-427d-4c99-962f-fb08fa8274ea"
      },
      "source": [
        "print(confusion_matrix(Ytest, Ypred))"
      ],
      "execution_count": 62,
      "outputs": [
        {
          "output_type": "stream",
          "name": "stdout",
          "text": [
            "[[65  7]\n",
            " [ 2 40]]\n"
          ]
        }
      ]
    },
    {
      "cell_type": "code",
      "metadata": {
        "colab": {
          "base_uri": "https://localhost:8080/"
        },
        "id": "jlMNt8c4V5uC",
        "outputId": "7dc60483-5806-4695-b952-ef324bfdd873"
      },
      "source": [
        "print(classification_report(Ytest,Ypred))"
      ],
      "execution_count": 63,
      "outputs": [
        {
          "output_type": "stream",
          "name": "stdout",
          "text": [
            "              precision    recall  f1-score   support\n",
            "\n",
            "           B       0.97      0.90      0.94        72\n",
            "           M       0.85      0.95      0.90        42\n",
            "\n",
            "    accuracy                           0.92       114\n",
            "   macro avg       0.91      0.93      0.92       114\n",
            "weighted avg       0.93      0.92      0.92       114\n",
            "\n"
          ]
        }
      ]
    },
    {
      "cell_type": "code",
      "metadata": {
        "id": "fql7M_x2V-jy"
      },
      "source": [
        ""
      ],
      "execution_count": null,
      "outputs": []
    }
  ]
}