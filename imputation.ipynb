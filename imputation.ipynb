{
  "nbformat": 4,
  "nbformat_minor": 0,
  "metadata": {
    "colab": {
      "name": "Untitled5.ipynb",
      "provenance": [],
      "authorship_tag": "ABX9TyMO03IS5IRVHD4e/V3Rkb/j",
      "include_colab_link": true
    },
    "kernelspec": {
      "name": "python3",
      "display_name": "Python 3"
    },
    "language_info": {
      "name": "python"
    }
  },
  "cells": [
    {
      "cell_type": "markdown",
      "metadata": {
        "id": "view-in-github",
        "colab_type": "text"
      },
      "source": [
        "<a href=\"https://colab.research.google.com/github/SamanvithaBolem/SamanvithaBolem/blob/main/imputation.ipynb\" target=\"_parent\"><img src=\"https://colab.research.google.com/assets/colab-badge.svg\" alt=\"Open In Colab\"/></a>"
      ]
    },
    {
      "cell_type": "code",
      "metadata": {
        "colab": {
          "base_uri": "https://localhost:8080/",
          "height": 80
        },
        "id": "lwPFNx9_t5dU",
        "outputId": "1ecfe058-9b7c-40cc-e015-39e8205d313b"
      },
      "source": [
        "import pandas as pd\n",
        "customer = pd.read_csv('/content/customer.csv')\n",
        "product = pd.read_csv('/content/product.csv')\n",
        "product.sample()"
      ],
      "execution_count": 8,
      "outputs": [
        {
          "output_type": "execute_result",
          "data": {
            "text/html": [
              "<div>\n",
              "<style scoped>\n",
              "    .dataframe tbody tr th:only-of-type {\n",
              "        vertical-align: middle;\n",
              "    }\n",
              "\n",
              "    .dataframe tbody tr th {\n",
              "        vertical-align: top;\n",
              "    }\n",
              "\n",
              "    .dataframe thead th {\n",
              "        text-align: right;\n",
              "    }\n",
              "</style>\n",
              "<table border=\"1\" class=\"dataframe\">\n",
              "  <thead>\n",
              "    <tr style=\"text-align: right;\">\n",
              "      <th></th>\n",
              "      <th>Product_ID</th>\n",
              "      <th>Product_name</th>\n",
              "      <th>Category</th>\n",
              "      <th>Price</th>\n",
              "      <th>Seller_City</th>\n",
              "    </tr>\n",
              "  </thead>\n",
              "  <tbody>\n",
              "    <tr>\n",
              "      <th>17</th>\n",
              "      <td>118</td>\n",
              "      <td>Smartphone</td>\n",
              "      <td>Electronics</td>\n",
              "      <td>131154.1429</td>\n",
              "      <td>Kolkata</td>\n",
              "    </tr>\n",
              "  </tbody>\n",
              "</table>\n",
              "</div>"
            ],
            "text/plain": [
              "    Product_ID Product_name     Category        Price Seller_City\n",
              "17         118   Smartphone  Electronics  131154.1429     Kolkata"
            ]
          },
          "metadata": {},
          "execution_count": 8
        }
      ]
    },
    {
      "cell_type": "code",
      "metadata": {
        "colab": {
          "base_uri": "https://localhost:8080/",
          "height": 234
        },
        "id": "1ap_1J8XvP-5",
        "outputId": "06931e55-5e7c-4b46-9aac-8debe3b175d7"
      },
      "source": [
        "product.groupby(['Seller_City']).mean()"
      ],
      "execution_count": 9,
      "outputs": [
        {
          "output_type": "execute_result",
          "data": {
            "text/html": [
              "<div>\n",
              "<style scoped>\n",
              "    .dataframe tbody tr th:only-of-type {\n",
              "        vertical-align: middle;\n",
              "    }\n",
              "\n",
              "    .dataframe tbody tr th {\n",
              "        vertical-align: top;\n",
              "    }\n",
              "\n",
              "    .dataframe thead th {\n",
              "        text-align: right;\n",
              "    }\n",
              "</style>\n",
              "<table border=\"1\" class=\"dataframe\">\n",
              "  <thead>\n",
              "    <tr style=\"text-align: right;\">\n",
              "      <th></th>\n",
              "      <th>Product_ID</th>\n",
              "      <th>Price</th>\n",
              "    </tr>\n",
              "    <tr>\n",
              "      <th>Seller_City</th>\n",
              "      <th></th>\n",
              "      <th></th>\n",
              "    </tr>\n",
              "  </thead>\n",
              "  <tbody>\n",
              "    <tr>\n",
              "      <th>Bengalore</th>\n",
              "      <td>110.500000</td>\n",
              "      <td>88879.071430</td>\n",
              "    </tr>\n",
              "    <tr>\n",
              "      <th>Chennai</th>\n",
              "      <td>109.800000</td>\n",
              "      <td>55937.785724</td>\n",
              "    </tr>\n",
              "    <tr>\n",
              "      <th>Delhi</th>\n",
              "      <td>111.428571</td>\n",
              "      <td>73469.566346</td>\n",
              "    </tr>\n",
              "    <tr>\n",
              "      <th>Kolkata</th>\n",
              "      <td>111.000000</td>\n",
              "      <td>72955.345253</td>\n",
              "    </tr>\n",
              "    <tr>\n",
              "      <th>Mumbai</th>\n",
              "      <td>109.000000</td>\n",
              "      <td>57274.178587</td>\n",
              "    </tr>\n",
              "  </tbody>\n",
              "</table>\n",
              "</div>"
            ],
            "text/plain": [
              "             Product_ID         Price\n",
              "Seller_City                          \n",
              "Bengalore    110.500000  88879.071430\n",
              "Chennai      109.800000  55937.785724\n",
              "Delhi        111.428571  73469.566346\n",
              "Kolkata      111.000000  72955.345253\n",
              "Mumbai       109.000000  57274.178587"
            ]
          },
          "metadata": {},
          "execution_count": 9
        }
      ]
    },
    {
      "cell_type": "code",
      "metadata": {
        "colab": {
          "base_uri": "https://localhost:8080/"
        },
        "id": "ricpX0BcxgPF",
        "outputId": "d5a45568-423c-4483-c121-92991f740f5e"
      },
      "source": [
        "print(customer.columns)\n",
        "print(product.columns)\n"
      ],
      "execution_count": 10,
      "outputs": [
        {
          "output_type": "stream",
          "name": "stdout",
          "text": [
            "Index(['id', 'name', 'age', 'Product_ID', 'Purchased_Product', 'City'], dtype='object')\n",
            "Index(['Product_ID', 'Product_name', 'Category', 'Price', 'Seller_City'], dtype='object')\n"
          ]
        }
      ]
    },
    {
      "cell_type": "code",
      "metadata": {
        "colab": {
          "base_uri": "https://localhost:8080/"
        },
        "id": "SUFHlpIhyMcy",
        "outputId": "4e764e04-bcbb-4c2f-e8a9-5552846e2956"
      },
      "source": [
        "merged_file = pd.merge(product,customer,\n",
        "                       on='Product_ID')\n",
        "print(merged_file.head())\n",
        "print(merged_file.shape)"
      ],
      "execution_count": 13,
      "outputs": [
        {
          "output_type": "stream",
          "name": "stdout",
          "text": [
            "   Product_ID Product_name     Category  ...  age Purchased_Product     City\n",
            "0         101        Watch      Fashion  ...   20             Watch   Mumbai\n",
            "1         101        Watch      Fashion  ...   41        Smartphone    Delhi\n",
            "2         102          Bag      Fashion  ...   40             Shoes  Chennai\n",
            "3         103        Shoes      Fashion  ...   30             Shoes  Chennai\n",
            "4         104   Smartphone  Electronics  ...   65        Smartphone    Delhi\n",
            "\n",
            "[5 rows x 10 columns]\n",
            "(15, 10)\n"
          ]
        }
      ]
    },
    {
      "cell_type": "code",
      "metadata": {
        "colab": {
          "base_uri": "https://localhost:8080/"
        },
        "id": "-CfBG4E2yqOZ",
        "outputId": "3c28d973-fe34-4d0f-b897-8f7b5d047f96"
      },
      "source": [
        "outer_join = pd.merge(product,customer,\n",
        "                       on='Product_ID',\n",
        "                      how='outer')\n",
        "print(outer_join.head())\n",
        "print(outer_join.shape)"
      ],
      "execution_count": 14,
      "outputs": [
        {
          "output_type": "stream",
          "name": "stdout",
          "text": [
            "   Product_ID Product_name     Category  ...   age Purchased_Product     City\n",
            "0         101        Watch      Fashion  ...  20.0             Watch   Mumbai\n",
            "1         101        Watch      Fashion  ...  41.0        Smartphone    Delhi\n",
            "2         102          Bag      Fashion  ...  40.0             Shoes  Chennai\n",
            "3         103        Shoes      Fashion  ...  30.0             Shoes  Chennai\n",
            "4         104   Smartphone  Electronics  ...  65.0        Smartphone    Delhi\n",
            "\n",
            "[5 rows x 10 columns]\n",
            "(29, 10)\n"
          ]
        }
      ]
    },
    {
      "cell_type": "code",
      "metadata": {
        "colab": {
          "base_uri": "https://localhost:8080/"
        },
        "id": "_T18NsHqzXvx",
        "outputId": "a56f7388-23d6-4c6c-d0fa-1c53b108c96d"
      },
      "source": [
        "left_join = pd.merge(product,customer,\n",
        "                       on='Product_ID',\n",
        "                     how = 'left')\n",
        "print(left_join.head())\n",
        "print(left_join.shape)"
      ],
      "execution_count": 15,
      "outputs": [
        {
          "output_type": "stream",
          "name": "stdout",
          "text": [
            "   Product_ID Product_name     Category  ...   age Purchased_Product     City\n",
            "0         101        Watch      Fashion  ...  20.0             Watch   Mumbai\n",
            "1         101        Watch      Fashion  ...  41.0        Smartphone    Delhi\n",
            "2         102          Bag      Fashion  ...  40.0             Shoes  Chennai\n",
            "3         103        Shoes      Fashion  ...  30.0             Shoes  Chennai\n",
            "4         104   Smartphone  Electronics  ...  65.0        Smartphone    Delhi\n",
            "\n",
            "[5 rows x 10 columns]\n",
            "(25, 10)\n"
          ]
        }
      ]
    },
    {
      "cell_type": "code",
      "metadata": {
        "colab": {
          "base_uri": "https://localhost:8080/"
        },
        "id": "N_aCm5LqzzoU",
        "outputId": "c116dc00-df87-46dd-833f-fef53b9cc238"
      },
      "source": [
        "right_join = pd.merge(product,customer,\n",
        "                       on='Product_ID',\n",
        "                      how = 'right')\n",
        "print(right_join.head())\n",
        "print(right_join.shape)"
      ],
      "execution_count": 18,
      "outputs": [
        {
          "output_type": "stream",
          "name": "stdout",
          "text": [
            "   Product_ID Product_name Category  ...  age Purchased_Product     City\n",
            "0         101        Watch  Fashion  ...   20             Watch   Mumbai\n",
            "1         101        Watch  Fashion  ...   41        Smartphone    Delhi\n",
            "2           0          NaN      NaN  ...   25               NaN    Delhi\n",
            "3           0          NaN      NaN  ...   10               NaN  Chennai\n",
            "4           0          NaN      NaN  ...   35               NaN  Kolkata\n",
            "\n",
            "[5 rows x 10 columns]\n",
            "(19, 10)\n"
          ]
        }
      ]
    },
    {
      "cell_type": "code",
      "metadata": {
        "colab": {
          "base_uri": "https://localhost:8080/"
        },
        "id": "T_9I7VTz0k3c",
        "outputId": "c663b5c9-e84f-469a-cdc4-8d3d3e665496"
      },
      "source": [
        "merged_file.to_csv\n",
        "\n",
        "outer_join.to_json\n",
        "\n",
        "left_join.to_excel\n",
        "\n",
        "right_join.to_html"
      ],
      "execution_count": 19,
      "outputs": [
        {
          "output_type": "execute_result",
          "data": {
            "text/plain": [
              "<bound method DataFrame.to_html of     Product_ID Product_name     Category  ...  age Purchased_Product       City\n",
              "0          101        Watch      Fashion  ...   20             Watch     Mumbai\n",
              "1          101        Watch      Fashion  ...   41        Smartphone      Delhi\n",
              "2            0          NaN          NaN  ...   25               NaN      Delhi\n",
              "3            0          NaN          NaN  ...   10               NaN    Chennai\n",
              "4            0          NaN          NaN  ...   35               NaN    Kolkata\n",
              "5            0          NaN          NaN  ...   18               NaN      Delhi\n",
              "6          106          Oil      Grocery  ...   15               Oil  Bangalore\n",
              "7          106          Oil      Grocery  ...   44               NaN      Delhi\n",
              "8          103        Shoes      Fashion  ...   30             Shoes    Chennai\n",
              "9          104   Smartphone  Electronics  ...   65        Smartphone      Delhi\n",
              "10         107       Laptop  Electronics  ...   23            Laptop     Mumbai\n",
              "11         107       Laptop  Electronics  ...   37               Oil  Bangalore\n",
              "12         105        Books        Study  ...   34             Watch     Mumbai\n",
              "13         105        Books        Study  ...   38               NaN    Chennai\n",
              "14         105        Books        Study  ...   43               NaN    Kolkata\n",
              "15         108        Watch      Fashion  ...   35               NaN      Delhi\n",
              "16         102          Bag      Fashion  ...   40             Shoes    Chennai\n",
              "17         109          Bag      Fashion  ...   45            Laptop     Mumbai\n",
              "18         110        Shoes      Fashion  ...   47             Watch     Mumbai\n",
              "\n",
              "[19 rows x 10 columns]>"
            ]
          },
          "metadata": {},
          "execution_count": 19
        }
      ]
    },
    {
      "cell_type": "code",
      "metadata": {
        "colab": {
          "base_uri": "https://localhost:8080/"
        },
        "id": "zyljkjKX1S25",
        "outputId": "0d4cfac6-ebac-4235-993c-d1c97916b5df"
      },
      "source": [
        "merged_file['Product_name'].value_counts()"
      ],
      "execution_count": 21,
      "outputs": [
        {
          "output_type": "execute_result",
          "data": {
            "text/plain": [
              "Watch         3\n",
              "Books         3\n",
              "Oil           2\n",
              "Laptop        2\n",
              "Shoes         2\n",
              "Bag           2\n",
              "Smartphone    1\n",
              "Name: Product_name, dtype: int64"
            ]
          },
          "metadata": {},
          "execution_count": 21
        }
      ]
    },
    {
      "cell_type": "code",
      "metadata": {
        "colab": {
          "base_uri": "https://localhost:8080/"
        },
        "id": "yMNqgn001qvI",
        "outputId": "b3515ee6-e084-463f-f8e0-d850df31e58b"
      },
      "source": [
        "merged_file['City'].value_counts()"
      ],
      "execution_count": 22,
      "outputs": [
        {
          "output_type": "execute_result",
          "data": {
            "text/plain": [
              "Mumbai       5\n",
              "Delhi        4\n",
              "Chennai      3\n",
              "Bangalore    2\n",
              "Kolkata      1\n",
              "Name: City, dtype: int64"
            ]
          },
          "metadata": {},
          "execution_count": 22
        }
      ]
    },
    {
      "cell_type": "code",
      "metadata": {
        "colab": {
          "base_uri": "https://localhost:8080/",
          "height": 282
        },
        "id": "ltsm7Z0f1zh3",
        "outputId": "78726ba5-583e-4a80-c0e4-39e9b2479a9b"
      },
      "source": [
        "merged_file['Price'].plot.hist()"
      ],
      "execution_count": 23,
      "outputs": [
        {
          "output_type": "execute_result",
          "data": {
            "text/plain": [
              "<matplotlib.axes._subplots.AxesSubplot at 0x7fdd0a220d50>"
            ]
          },
          "metadata": {},
          "execution_count": 23
        },
        {
          "output_type": "display_data",
          "data": {
            "image/png": "[encoded data removed]",
            "text/plain": [
              "<Figure size 432x288 with 1 Axes>"
            ]
          },
          "metadata": {
            "needs_background": "light"
          }
        }
      ]
    },
    {
      "cell_type": "code",
      "metadata": {
        "colab": {
          "base_uri": "https://localhost:8080/",
          "height": 265
        },
        "id": "uYl5VVgT2KmH",
        "outputId": "ecd2cd90-58df-4641-f380-0d4cbbca8dba"
      },
      "source": [
        "merged_file['age'].plot.pie()"
      ],
      "execution_count": 24,
      "outputs": [
        {
          "output_type": "execute_result",
          "data": {
            "text/plain": [
              "<matplotlib.axes._subplots.AxesSubplot at 0x7fdd0e9f6f50>"
            ]
          },
          "metadata": {},
          "execution_count": 24
        },
        {
          "output_type": "display_data",
          "data": {
            "image/png": "[encoded data removed]",
            "text/plain": [
              "<Figure size 432x288 with 1 Axes>"
            ]
          },
          "metadata": {}
        }
      ]
    },
    {
      "cell_type": "code",
      "metadata": {
        "colab": {
          "base_uri": "https://localhost:8080/",
          "height": 296
        },
        "id": "2wqVrXtm2veb",
        "outputId": "7c899070-d78b-4ae1-fe57-856d8b3f1d2c"
      },
      "source": [
        "merged_file.plot.scatter(x='age',y='Price')"
      ],
      "execution_count": 25,
      "outputs": [
        {
          "output_type": "execute_result",
          "data": {
            "text/plain": [
              "<matplotlib.axes._subplots.AxesSubplot at 0x7fdd091d90d0>"
            ]
          },
          "metadata": {},
          "execution_count": 25
        },
        {
          "output_type": "display_data",
          "data": {
            "image/png": "[encoded data removed]",
            "text/plain": [
              "<Figure size 432x288 with 1 Axes>"
            ]
          },
          "metadata": {
            "needs_background": "light"
          }
        }
      ]
    },
    {
      "cell_type": "code",
      "metadata": {
        "colab": {
          "base_uri": "https://localhost:8080/"
        },
        "id": "46u2BPMA6Mg4",
        "outputId": "e2f5b415-7c96-4f67-be73-63ea6e8e2ecd"
      },
      "source": [
        "customer.isna().sum()"
      ],
      "execution_count": 26,
      "outputs": [
        {
          "output_type": "execute_result",
          "data": {
            "text/plain": [
              "id                   0\n",
              "name                 0\n",
              "age                  0\n",
              "Product_ID           0\n",
              "Purchased_Product    8\n",
              "City                 0\n",
              "dtype: int64"
            ]
          },
          "metadata": {},
          "execution_count": 26
        }
      ]
    },
    {
      "cell_type": "code",
      "metadata": {
        "colab": {
          "base_uri": "https://localhost:8080/"
        },
        "id": "hgGKBZCp6YVJ",
        "outputId": "9eaaac8d-f848-48df-b0b5-dc8a124129a5"
      },
      "source": [
        "product.isna().sum()"
      ],
      "execution_count": 32,
      "outputs": [
        {
          "output_type": "execute_result",
          "data": {
            "text/plain": [
              "Product_ID      0\n",
              "Product_name    0\n",
              "Category        0\n",
              "Price           0\n",
              "Seller_City     0\n",
              "dtype: int64"
            ]
          },
          "metadata": {},
          "execution_count": 32
        }
      ]
    },
    {
      "cell_type": "code",
      "metadata": {
        "colab": {
          "base_uri": "https://localhost:8080/"
        },
        "id": "1icpi-5S79rz",
        "outputId": "9fdb3cb5-470c-44d0-87e6-c82b92cf6c5d"
      },
      "source": [
        "#Replacing Categorical variable which has missing value\n",
        "#Dropping those recordswhich have missing value\n",
        "\n",
        "print(customer.shape)\n",
        "\n",
        "customer.dropna(axis=0,how='any',inplace=True)\n"
      ],
      "execution_count": 39,
      "outputs": [
        {
          "output_type": "stream",
          "name": "stdout",
          "text": [
            "(11, 6)\n"
          ]
        }
      ]
    },
    {
      "cell_type": "code",
      "metadata": {
        "colab": {
          "base_uri": "https://localhost:8080/"
        },
        "id": "vmCzB1NU8cZP",
        "outputId": "0d4a0245-57a9-415c-ba33-42def08f6eb3"
      },
      "source": [
        "customer = pd.read_csv('/content/customer.csv')\n",
        "print(customer.isna().sum())"
      ],
      "execution_count": 40,
      "outputs": [
        {
          "output_type": "stream",
          "name": "stdout",
          "text": [
            "id                   0\n",
            "name                 0\n",
            "age                  0\n",
            "Product_ID           0\n",
            "Purchased_Product    8\n",
            "City                 0\n",
            "dtype: int64\n"
          ]
        }
      ]
    },
    {
      "cell_type": "code",
      "metadata": {
        "colab": {
          "base_uri": "https://localhost:8080/"
        },
        "id": "FHwMJn3V91gd",
        "outputId": "ef8b460d-e674-4427-c5c7-2f90850fd510"
      },
      "source": [
        "customer['Purchased_Product'].fillna(value='mode',\n",
        "                                     inplace=True)   #Data imputation\n",
        "customer.isna().sum()"
      ],
      "execution_count": 43,
      "outputs": [
        {
          "output_type": "execute_result",
          "data": {
            "text/plain": [
              "id                   0\n",
              "name                 0\n",
              "age                  0\n",
              "Product_ID           0\n",
              "Purchased_Product    0\n",
              "City                 0\n",
              "dtype: int64"
            ]
          },
          "metadata": {},
          "execution_count": 43
        }
      ]
    },
    {
      "cell_type": "code",
      "metadata": {
        "colab": {
          "base_uri": "https://localhost:8080/"
        },
        "id": "aWbhDg-T-wZR",
        "outputId": "7f6f3003-8cd4-47c3-f70e-c10ba4874119"
      },
      "source": [
        "customer['Purchased_Product'].value_counts()\n",
        " "
      ],
      "execution_count": 44,
      "outputs": [
        {
          "output_type": "execute_result",
          "data": {
            "text/plain": [
              "mode          8\n",
              "Watch         3\n",
              "Oil           2\n",
              "Smartphone    2\n",
              "Laptop        2\n",
              "Shoes         2\n",
              "Name: Purchased_Product, dtype: int64"
            ]
          },
          "metadata": {},
          "execution_count": 44
        }
      ]
    },
    {
      "cell_type": "code",
      "metadata": {
        "colab": {
          "base_uri": "https://localhost:8080/"
        },
        "id": "mn1fO4Sc-7Zw",
        "outputId": "d6442f8f-a6c1-40aa-eed8-6ed72cb6bf86"
      },
      "source": [
        "employee = pd.read_csv('/content/employees.csv')\n",
        "employee.isna().sum()"
      ],
      "execution_count": 46,
      "outputs": [
        {
          "output_type": "execute_result",
          "data": {
            "text/plain": [
              "First Name            67\n",
              "Gender               145\n",
              "Start Date             0\n",
              "Last Login Time        0\n",
              "Salary                 0\n",
              "Bonus %                0\n",
              "Senior Management     67\n",
              "Team                  43\n",
              "dtype: int64"
            ]
          },
          "metadata": {},
          "execution_count": 46
        }
      ]
    },
    {
      "cell_type": "code",
      "metadata": {
        "colab": {
          "base_uri": "https://localhost:8080/"
        },
        "id": "H7l13SFUBu67",
        "outputId": "f5baee46-1c7b-468b-ebf6-f32e335ab92e"
      },
      "source": [
        "employee.info()"
      ],
      "execution_count": 48,
      "outputs": [
        {
          "output_type": "stream",
          "name": "stdout",
          "text": [
            "<class 'pandas.core.frame.DataFrame'>\n",
            "RangeIndex: 1000 entries, 0 to 999\n",
            "Data columns (total 8 columns):\n",
            " #   Column             Non-Null Count  Dtype  \n",
            "---  ------             --------------  -----  \n",
            " 0   First Name         933 non-null    object \n",
            " 1   Gender             855 non-null    object \n",
            " 2   Start Date         1000 non-null   object \n",
            " 3   Last Login Time    1000 non-null   object \n",
            " 4   Salary             1000 non-null   int64  \n",
            " 5   Bonus %            1000 non-null   float64\n",
            " 6   Senior Management  933 non-null    object \n",
            " 7   Team               957 non-null    object \n",
            "dtypes: float64(1), int64(1), object(6)\n",
            "memory usage: 62.6+ KB\n"
          ]
        }
      ]
    },
    {
      "cell_type": "code",
      "metadata": {
        "colab": {
          "base_uri": "https://localhost:8080/",
          "height": 114
        },
        "id": "QxuNIOp6Bm8J",
        "outputId": "27a2f3f3-04ea-4bc5-8b45-5342010a9e38"
      },
      "source": [
        "employee.sample()"
      ],
      "execution_count": 47,
      "outputs": [
        {
          "output_type": "execute_result",
          "data": {
            "text/html": [
              "<div>\n",
              "<style scoped>\n",
              "    .dataframe tbody tr th:only-of-type {\n",
              "        vertical-align: middle;\n",
              "    }\n",
              "\n",
              "    .dataframe tbody tr th {\n",
              "        vertical-align: top;\n",
              "    }\n",
              "\n",
              "    .dataframe thead th {\n",
              "        text-align: right;\n",
              "    }\n",
              "</style>\n",
              "<table border=\"1\" class=\"dataframe\">\n",
              "  <thead>\n",
              "    <tr style=\"text-align: right;\">\n",
              "      <th></th>\n",
              "      <th>First Name</th>\n",
              "      <th>Gender</th>\n",
              "      <th>Start Date</th>\n",
              "      <th>Last Login Time</th>\n",
              "      <th>Salary</th>\n",
              "      <th>Bonus %</th>\n",
              "      <th>Senior Management</th>\n",
              "      <th>Team</th>\n",
              "    </tr>\n",
              "  </thead>\n",
              "  <tbody>\n",
              "    <tr>\n",
              "      <th>701</th>\n",
              "      <td>Robin</td>\n",
              "      <td>NaN</td>\n",
              "      <td>9/16/2005</td>\n",
              "      <td>1:26 AM</td>\n",
              "      <td>93201</td>\n",
              "      <td>11.712</td>\n",
              "      <td>True</td>\n",
              "      <td>Legal</td>\n",
              "    </tr>\n",
              "  </tbody>\n",
              "</table>\n",
              "</div>"
            ],
            "text/plain": [
              "    First Name Gender Start Date  ... Bonus %  Senior Management   Team\n",
              "701      Robin    NaN  9/16/2005  ...  11.712               True  Legal\n",
              "\n",
              "[1 rows x 8 columns]"
            ]
          },
          "metadata": {},
          "execution_count": 47
        }
      ]
    },
    {
      "cell_type": "code",
      "metadata": {
        "colab": {
          "base_uri": "https://localhost:8080/"
        },
        "id": "WvX_4wHSBq2H",
        "outputId": "89aa3232-92a2-44d2-dd13-888d6b7106a2"
      },
      "source": [
        "nba = pd.read_csv('/content/nba.csv')\n",
        "nba.isna().sum()"
      ],
      "execution_count": 50,
      "outputs": [
        {
          "output_type": "execute_result",
          "data": {
            "text/plain": [
              "Name         1\n",
              "Team         1\n",
              "Number       1\n",
              "Position     1\n",
              "Age          1\n",
              "Height       1\n",
              "Weight       1\n",
              "College     85\n",
              "Salary      12\n",
              "dtype: int64"
            ]
          },
          "metadata": {},
          "execution_count": 50
        }
      ]
    },
    {
      "cell_type": "code",
      "metadata": {
        "colab": {
          "base_uri": "https://localhost:8080/"
        },
        "id": "TxrIyBAGB8ll",
        "outputId": "5135fd9b-22b6-4590-d033-60b1cd143e68"
      },
      "source": [
        "nba.info()"
      ],
      "execution_count": 51,
      "outputs": [
        {
          "output_type": "stream",
          "name": "stdout",
          "text": [
            "<class 'pandas.core.frame.DataFrame'>\n",
            "RangeIndex: 458 entries, 0 to 457\n",
            "Data columns (total 9 columns):\n",
            " #   Column    Non-Null Count  Dtype  \n",
            "---  ------    --------------  -----  \n",
            " 0   Name      457 non-null    object \n",
            " 1   Team      457 non-null    object \n",
            " 2   Number    457 non-null    float64\n",
            " 3   Position  457 non-null    object \n",
            " 4   Age       457 non-null    float64\n",
            " 5   Height    457 non-null    object \n",
            " 6   Weight    457 non-null    float64\n",
            " 7   College   373 non-null    object \n",
            " 8   Salary    446 non-null    float64\n",
            "dtypes: float64(4), object(5)\n",
            "memory usage: 32.3+ KB\n"
          ]
        }
      ]
    },
    {
      "cell_type": "code",
      "metadata": {
        "colab": {
          "base_uri": "https://localhost:8080/",
          "height": 97
        },
        "id": "bjOCKk7ECIKk",
        "outputId": "167bcb21-3511-4ef4-cc40-62cf8bb4c29d"
      },
      "source": [
        "nba.sample()"
      ],
      "execution_count": 53,
      "outputs": [
        {
          "output_type": "execute_result",
          "data": {
            "text/html": [
              "<div>\n",
              "<style scoped>\n",
              "    .dataframe tbody tr th:only-of-type {\n",
              "        vertical-align: middle;\n",
              "    }\n",
              "\n",
              "    .dataframe tbody tr th {\n",
              "        vertical-align: top;\n",
              "    }\n",
              "\n",
              "    .dataframe thead th {\n",
              "        text-align: right;\n",
              "    }\n",
              "</style>\n",
              "<table border=\"1\" class=\"dataframe\">\n",
              "  <thead>\n",
              "    <tr style=\"text-align: right;\">\n",
              "      <th></th>\n",
              "      <th>Name</th>\n",
              "      <th>Team</th>\n",
              "      <th>Number</th>\n",
              "      <th>Position</th>\n",
              "      <th>Age</th>\n",
              "      <th>Height</th>\n",
              "      <th>Weight</th>\n",
              "      <th>College</th>\n",
              "      <th>Salary</th>\n",
              "    </tr>\n",
              "  </thead>\n",
              "  <tbody>\n",
              "    <tr>\n",
              "      <th>187</th>\n",
              "      <td>Spencer Dinwiddie</td>\n",
              "      <td>Detroit Pistons</td>\n",
              "      <td>8.0</td>\n",
              "      <td>PG</td>\n",
              "      <td>23.0</td>\n",
              "      <td>6-6</td>\n",
              "      <td>200.0</td>\n",
              "      <td>Colorado</td>\n",
              "      <td>845059.0</td>\n",
              "    </tr>\n",
              "  </tbody>\n",
              "</table>\n",
              "</div>"
            ],
            "text/plain": [
              "                  Name             Team  Number  ... Weight   College    Salary\n",
              "187  Spencer Dinwiddie  Detroit Pistons     8.0  ...  200.0  Colorado  845059.0\n",
              "\n",
              "[1 rows x 9 columns]"
            ]
          },
          "metadata": {},
          "execution_count": 53
        }
      ]
    },
    {
      "cell_type": "code",
      "metadata": {
        "colab": {
          "base_uri": "https://localhost:8080/"
        },
        "id": "llUZMZ9eDDhE",
        "outputId": "7c27abae-a7ae-4be9-9d6d-dd6fbaa1131b"
      },
      "source": [
        "nba['Salary'].mean()"
      ],
      "execution_count": 58,
      "outputs": [
        {
          "output_type": "execute_result",
          "data": {
            "text/plain": [
              "4842684.105381166"
            ]
          },
          "metadata": {},
          "execution_count": 58
        }
      ]
    },
    {
      "cell_type": "code",
      "metadata": {
        "id": "Y0EmhcrECK9l"
      },
      "source": [
        "nba['Salary_mean'] = nba['Salary'].fillna(value=nba['Salary'].mean(),\n",
        "                                   inplace=True)"
      ],
      "execution_count": 62,
      "outputs": []
    },
    {
      "cell_type": "code",
      "metadata": {
        "colab": {
          "base_uri": "https://localhost:8080/"
        },
        "id": "5XOZid4eCnd0",
        "outputId": "35da1860-92ca-41ef-da33-2c5f7e37aa7d"
      },
      "source": [
        "nba['Salary_mean'].mean()"
      ],
      "execution_count": 64,
      "outputs": [
        {
          "output_type": "execute_result",
          "data": {
            "text/plain": [
              "nan"
            ]
          },
          "metadata": {},
          "execution_count": 64
        }
      ]
    },
    {
      "cell_type": "code",
      "metadata": {
        "colab": {
          "base_uri": "https://localhost:8080/",
          "height": 80
        },
        "id": "82pMvwIrEmbc",
        "outputId": "ba76f427-35dc-42bb-f9ae-f81eb60efbb0"
      },
      "source": [
        "nba.sample()"
      ],
      "execution_count": 65,
      "outputs": [
        {
          "output_type": "execute_result",
          "data": {
            "text/html": [
              "<div>\n",
              "<style scoped>\n",
              "    .dataframe tbody tr th:only-of-type {\n",
              "        vertical-align: middle;\n",
              "    }\n",
              "\n",
              "    .dataframe tbody tr th {\n",
              "        vertical-align: top;\n",
              "    }\n",
              "\n",
              "    .dataframe thead th {\n",
              "        text-align: right;\n",
              "    }\n",
              "</style>\n",
              "<table border=\"1\" class=\"dataframe\">\n",
              "  <thead>\n",
              "    <tr style=\"text-align: right;\">\n",
              "      <th></th>\n",
              "      <th>Name</th>\n",
              "      <th>Team</th>\n",
              "      <th>Number</th>\n",
              "      <th>Position</th>\n",
              "      <th>Age</th>\n",
              "      <th>Height</th>\n",
              "      <th>Weight</th>\n",
              "      <th>College</th>\n",
              "      <th>Salary</th>\n",
              "      <th>Salary_mean</th>\n",
              "    </tr>\n",
              "  </thead>\n",
              "  <tbody>\n",
              "    <tr>\n",
              "      <th>422</th>\n",
              "      <td>Cameron Payne</td>\n",
              "      <td>Oklahoma City Thunder</td>\n",
              "      <td>22.0</td>\n",
              "      <td>PG</td>\n",
              "      <td>21.0</td>\n",
              "      <td>6-3</td>\n",
              "      <td>185.0</td>\n",
              "      <td>Murray State</td>\n",
              "      <td>2021520.0</td>\n",
              "      <td>None</td>\n",
              "    </tr>\n",
              "  </tbody>\n",
              "</table>\n",
              "</div>"
            ],
            "text/plain": [
              "              Name                   Team  ...     Salary Salary_mean\n",
              "422  Cameron Payne  Oklahoma City Thunder  ...  2021520.0        None\n",
              "\n",
              "[1 rows x 10 columns]"
            ]
          },
          "metadata": {},
          "execution_count": 65
        }
      ]
    },
    {
      "cell_type": "code",
      "metadata": {
        "colab": {
          "base_uri": "https://localhost:8080/"
        },
        "id": "zFbJbO8KEpAM",
        "outputId": "786d99a4-e70e-424f-e692-fdfa52d9c875"
      },
      "source": [
        "nba['Salary'].value_counts()"
      ],
      "execution_count": 66,
      "outputs": [
        {
          "output_type": "execute_result",
          "data": {
            "text/plain": [
              "9.472760e+05    31\n",
              "8.450590e+05    18\n",
              "5.250930e+05    13\n",
              "4.842684e+06    12\n",
              "9.813480e+05     6\n",
              "                ..\n",
              "1.242720e+06     1\n",
              "2.489530e+06     1\n",
              "5.103120e+06     1\n",
              "9.463484e+06     1\n",
              "7.009020e+05     1\n",
              "Name: Salary, Length: 310, dtype: int64"
            ]
          },
          "metadata": {},
          "execution_count": 66
        }
      ]
    }
  ]
}